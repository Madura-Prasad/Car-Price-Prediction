{
 "cells": [
  {
   "cell_type": "code",
   "execution_count": 1,
   "id": "992b647a",
   "metadata": {
    "execution": {
     "iopub.execute_input": "2023-12-12T19:48:28.211630Z",
     "iopub.status.busy": "2023-12-12T19:48:28.210889Z",
     "iopub.status.idle": "2023-12-12T19:48:29.836390Z",
     "shell.execute_reply": "2023-12-12T19:48:29.835280Z"
    },
    "papermill": {
     "duration": 1.643362,
     "end_time": "2023-12-12T19:48:29.839004",
     "exception": false,
     "start_time": "2023-12-12T19:48:28.195642",
     "status": "completed"
    },
    "tags": []
   },
   "outputs": [],
   "source": [
    "import pandas as pd\\\n",
    ",numpy as np\\\n",
    ",matplotlib.pyplot as plt\\\n",
    ",seaborn as sns\\\n",
    ",warnings\n",
    "warnings.filterwarnings(\"ignore\")"
   ]
  },
  {
   "cell_type": "code",
   "execution_count": 2,
   "id": "3007d211",
   "metadata": {
    "execution": {
     "iopub.execute_input": "2023-12-12T19:48:29.867732Z",
     "iopub.status.busy": "2023-12-12T19:48:29.867203Z",
     "iopub.status.idle": "2023-12-12T19:48:29.901010Z",
     "shell.execute_reply": "2023-12-12T19:48:29.899978Z"
    },
    "papermill": {
     "duration": 0.050936,
     "end_time": "2023-12-12T19:48:29.903599",
     "exception": false,
     "start_time": "2023-12-12T19:48:29.852663",
     "status": "completed"
    },
    "tags": []
   },
   "outputs": [],
   "source": [
    "train = pd.read_csv(\"train.csv\")\n",
    "test = pd.read_csv(\"test.csv\")"
   ]
  },
  {
   "cell_type": "code",
   "execution_count": 3,
   "id": "eaf00d52",
   "metadata": {
    "execution": {
     "iopub.execute_input": "2023-12-12T19:48:29.933166Z",
     "iopub.status.busy": "2023-12-12T19:48:29.932279Z",
     "iopub.status.idle": "2023-12-12T19:48:29.973629Z",
     "shell.execute_reply": "2023-12-12T19:48:29.972791Z"
    },
    "papermill": {
     "duration": 0.058246,
     "end_time": "2023-12-12T19:48:29.975747",
     "exception": false,
     "start_time": "2023-12-12T19:48:29.917501",
     "status": "completed"
    },
    "tags": []
   },
   "outputs": [
    {
     "data": {
      "text/html": [
       "<div>\n",
       "<style scoped>\n",
       "    .dataframe tbody tr th:only-of-type {\n",
       "        vertical-align: middle;\n",
       "    }\n",
       "\n",
       "    .dataframe tbody tr th {\n",
       "        vertical-align: top;\n",
       "    }\n",
       "\n",
       "    .dataframe thead th {\n",
       "        text-align: right;\n",
       "    }\n",
       "</style>\n",
       "<table border=\"1\" class=\"dataframe\">\n",
       "  <thead>\n",
       "    <tr style=\"text-align: right;\">\n",
       "      <th></th>\n",
       "      <th>model</th>\n",
       "      <th>year</th>\n",
       "      <th>motor_type</th>\n",
       "      <th>running</th>\n",
       "      <th>wheel</th>\n",
       "      <th>color</th>\n",
       "      <th>type</th>\n",
       "      <th>status</th>\n",
       "      <th>motor_volume</th>\n",
       "      <th>price</th>\n",
       "    </tr>\n",
       "  </thead>\n",
       "  <tbody>\n",
       "    <tr>\n",
       "      <th>0</th>\n",
       "      <td>toyota</td>\n",
       "      <td>2022</td>\n",
       "      <td>petrol</td>\n",
       "      <td>3000  km</td>\n",
       "      <td>left</td>\n",
       "      <td>skyblue</td>\n",
       "      <td>sedan</td>\n",
       "      <td>excellent</td>\n",
       "      <td>2.0</td>\n",
       "      <td>24500</td>\n",
       "    </tr>\n",
       "    <tr>\n",
       "      <th>1</th>\n",
       "      <td>mercedes-benz</td>\n",
       "      <td>2014</td>\n",
       "      <td>petrol</td>\n",
       "      <td>132000  km</td>\n",
       "      <td>left</td>\n",
       "      <td>black</td>\n",
       "      <td>sedan</td>\n",
       "      <td>excellent</td>\n",
       "      <td>2.0</td>\n",
       "      <td>25500</td>\n",
       "    </tr>\n",
       "    <tr>\n",
       "      <th>2</th>\n",
       "      <td>kia</td>\n",
       "      <td>2018</td>\n",
       "      <td>petrol</td>\n",
       "      <td>95000  miles</td>\n",
       "      <td>left</td>\n",
       "      <td>other</td>\n",
       "      <td>sedan</td>\n",
       "      <td>excellent</td>\n",
       "      <td>2.0</td>\n",
       "      <td>11700</td>\n",
       "    </tr>\n",
       "    <tr>\n",
       "      <th>3</th>\n",
       "      <td>mercedes-benz</td>\n",
       "      <td>2002</td>\n",
       "      <td>petrol</td>\n",
       "      <td>137000  miles</td>\n",
       "      <td>left</td>\n",
       "      <td>golden</td>\n",
       "      <td>sedan</td>\n",
       "      <td>excellent</td>\n",
       "      <td>3.2</td>\n",
       "      <td>12000</td>\n",
       "    </tr>\n",
       "    <tr>\n",
       "      <th>4</th>\n",
       "      <td>mercedes-benz</td>\n",
       "      <td>2017</td>\n",
       "      <td>petrol</td>\n",
       "      <td>130000  km</td>\n",
       "      <td>left</td>\n",
       "      <td>black</td>\n",
       "      <td>sedan</td>\n",
       "      <td>good</td>\n",
       "      <td>2.0</td>\n",
       "      <td>26000</td>\n",
       "    </tr>\n",
       "  </tbody>\n",
       "</table>\n",
       "</div>"
      ],
      "text/plain": [
       "           model  year motor_type        running wheel    color   type  \\\n",
       "0         toyota  2022     petrol       3000  km  left  skyblue  sedan   \n",
       "1  mercedes-benz  2014     petrol     132000  km  left    black  sedan   \n",
       "2            kia  2018     petrol   95000  miles  left    other  sedan   \n",
       "3  mercedes-benz  2002     petrol  137000  miles  left   golden  sedan   \n",
       "4  mercedes-benz  2017     petrol     130000  km  left    black  sedan   \n",
       "\n",
       "      status  motor_volume  price  \n",
       "0  excellent           2.0  24500  \n",
       "1  excellent           2.0  25500  \n",
       "2  excellent           2.0  11700  \n",
       "3  excellent           3.2  12000  \n",
       "4       good           2.0  26000  "
      ]
     },
     "metadata": {},
     "output_type": "display_data"
    },
    {
     "data": {
      "text/html": [
       "<div>\n",
       "<style scoped>\n",
       "    .dataframe tbody tr th:only-of-type {\n",
       "        vertical-align: middle;\n",
       "    }\n",
       "\n",
       "    .dataframe tbody tr th {\n",
       "        vertical-align: top;\n",
       "    }\n",
       "\n",
       "    .dataframe thead th {\n",
       "        text-align: right;\n",
       "    }\n",
       "</style>\n",
       "<table border=\"1\" class=\"dataframe\">\n",
       "  <thead>\n",
       "    <tr style=\"text-align: right;\">\n",
       "      <th></th>\n",
       "      <th>Id</th>\n",
       "      <th>model</th>\n",
       "      <th>year</th>\n",
       "      <th>motor_type</th>\n",
       "      <th>running</th>\n",
       "      <th>wheel</th>\n",
       "      <th>color</th>\n",
       "      <th>type</th>\n",
       "      <th>status</th>\n",
       "      <th>motor_volume</th>\n",
       "    </tr>\n",
       "  </thead>\n",
       "  <tbody>\n",
       "    <tr>\n",
       "      <th>0</th>\n",
       "      <td>0</td>\n",
       "      <td>kia</td>\n",
       "      <td>2020</td>\n",
       "      <td>petrol</td>\n",
       "      <td>24000  km</td>\n",
       "      <td>left</td>\n",
       "      <td>black</td>\n",
       "      <td>sedan</td>\n",
       "      <td>excellent</td>\n",
       "      <td>2.0</td>\n",
       "    </tr>\n",
       "    <tr>\n",
       "      <th>1</th>\n",
       "      <td>1</td>\n",
       "      <td>nissan</td>\n",
       "      <td>2017</td>\n",
       "      <td>petrol</td>\n",
       "      <td>85000  miles</td>\n",
       "      <td>left</td>\n",
       "      <td>white</td>\n",
       "      <td>suv</td>\n",
       "      <td>excellent</td>\n",
       "      <td>2.0</td>\n",
       "    </tr>\n",
       "    <tr>\n",
       "      <th>2</th>\n",
       "      <td>2</td>\n",
       "      <td>hyundai</td>\n",
       "      <td>2021</td>\n",
       "      <td>petrol</td>\n",
       "      <td>30000  miles</td>\n",
       "      <td>left</td>\n",
       "      <td>white</td>\n",
       "      <td>sedan</td>\n",
       "      <td>excellent</td>\n",
       "      <td>2.0</td>\n",
       "    </tr>\n",
       "    <tr>\n",
       "      <th>3</th>\n",
       "      <td>3</td>\n",
       "      <td>kia</td>\n",
       "      <td>2018</td>\n",
       "      <td>petrol</td>\n",
       "      <td>53000  miles</td>\n",
       "      <td>left</td>\n",
       "      <td>silver</td>\n",
       "      <td>sedan</td>\n",
       "      <td>excellent</td>\n",
       "      <td>2.0</td>\n",
       "    </tr>\n",
       "    <tr>\n",
       "      <th>4</th>\n",
       "      <td>4</td>\n",
       "      <td>mercedes-benz</td>\n",
       "      <td>2003</td>\n",
       "      <td>petrol</td>\n",
       "      <td>230000  km</td>\n",
       "      <td>left</td>\n",
       "      <td>black</td>\n",
       "      <td>Universal</td>\n",
       "      <td>normal</td>\n",
       "      <td>1.8</td>\n",
       "    </tr>\n",
       "  </tbody>\n",
       "</table>\n",
       "</div>"
      ],
      "text/plain": [
       "   Id          model  year motor_type       running wheel   color       type  \\\n",
       "0   0            kia  2020     petrol     24000  km  left   black      sedan   \n",
       "1   1         nissan  2017     petrol  85000  miles  left   white        suv   \n",
       "2   2        hyundai  2021     petrol  30000  miles  left   white      sedan   \n",
       "3   3            kia  2018     petrol  53000  miles  left  silver      sedan   \n",
       "4   4  mercedes-benz  2003     petrol    230000  km  left   black  Universal   \n",
       "\n",
       "      status  motor_volume  \n",
       "0  excellent           2.0  \n",
       "1  excellent           2.0  \n",
       "2  excellent           2.0  \n",
       "3  excellent           2.0  \n",
       "4     normal           1.8  "
      ]
     },
     "execution_count": 3,
     "metadata": {},
     "output_type": "execute_result"
    }
   ],
   "source": [
    "display(train.head())\n",
    "test.head()"
   ]
  },
  {
   "cell_type": "code",
   "execution_count": 4,
   "id": "d73e065d",
   "metadata": {
    "execution": {
     "iopub.execute_input": "2023-12-12T19:48:30.033526Z",
     "iopub.status.busy": "2023-12-12T19:48:30.032581Z",
     "iopub.status.idle": "2023-12-12T19:48:30.038243Z",
     "shell.execute_reply": "2023-12-12T19:48:30.037475Z"
    },
    "papermill": {
     "duration": 0.022575,
     "end_time": "2023-12-12T19:48:30.040148",
     "exception": false,
     "start_time": "2023-12-12T19:48:30.017573",
     "status": "completed"
    },
    "tags": []
   },
   "outputs": [
    {
     "data": {
      "text/plain": [
       "(1642, 10)"
      ]
     },
     "execution_count": 4,
     "metadata": {},
     "output_type": "execute_result"
    }
   ],
   "source": [
    "train.shape"
   ]
  },
  {
   "cell_type": "code",
   "execution_count": 5,
   "id": "b3fe3c79",
   "metadata": {
    "execution": {
     "iopub.execute_input": "2023-12-12T19:48:30.070710Z",
     "iopub.status.busy": "2023-12-12T19:48:30.070044Z",
     "iopub.status.idle": "2023-12-12T19:48:30.077334Z",
     "shell.execute_reply": "2023-12-12T19:48:30.076103Z"
    },
    "papermill": {
     "duration": 0.024898,
     "end_time": "2023-12-12T19:48:30.079377",
     "exception": false,
     "start_time": "2023-12-12T19:48:30.054479",
     "status": "completed"
    },
    "tags": []
   },
   "outputs": [
    {
     "data": {
      "text/plain": [
       "16420"
      ]
     },
     "execution_count": 5,
     "metadata": {},
     "output_type": "execute_result"
    }
   ],
   "source": [
    "train.size"
   ]
  },
  {
   "cell_type": "code",
   "execution_count": 6,
   "id": "7ba5e3bd",
   "metadata": {
    "execution": {
     "iopub.execute_input": "2023-12-12T19:48:30.109451Z",
     "iopub.status.busy": "2023-12-12T19:48:30.108831Z",
     "iopub.status.idle": "2023-12-12T19:48:30.208289Z",
     "shell.execute_reply": "2023-12-12T19:48:30.207155Z"
    },
    "papermill": {
     "duration": 0.117924,
     "end_time": "2023-12-12T19:48:30.211491",
     "exception": false,
     "start_time": "2023-12-12T19:48:30.093567",
     "status": "completed"
    },
    "tags": []
   },
   "outputs": [
    {
     "name": "stdout",
     "output_type": "stream",
     "text": [
      "<class 'pandas.core.frame.DataFrame'>\n",
      "RangeIndex: 1642 entries, 0 to 1641\n",
      "Data columns (total 10 columns):\n",
      " #   Column        Non-Null Count  Dtype  \n",
      "---  ------        --------------  -----  \n",
      " 0   model         1642 non-null   object \n",
      " 1   year          1642 non-null   int64  \n",
      " 2   motor_type    1642 non-null   object \n",
      " 3   running       1642 non-null   object \n",
      " 4   wheel         1642 non-null   object \n",
      " 5   color         1642 non-null   object \n",
      " 6   type          1642 non-null   object \n",
      " 7   status        1642 non-null   object \n",
      " 8   motor_volume  1642 non-null   float64\n",
      " 9   price         1642 non-null   int64  \n",
      "dtypes: float64(1), int64(2), object(7)\n",
      "memory usage: 128.4+ KB\n"
     ]
    }
   ],
   "source": [
    "train.info()"
   ]
  },
  {
   "cell_type": "code",
   "execution_count": 7,
   "id": "3effaa28",
   "metadata": {
    "execution": {
     "iopub.execute_input": "2023-12-12T19:48:30.242873Z",
     "iopub.status.busy": "2023-12-12T19:48:30.241979Z",
     "iopub.status.idle": "2023-12-12T19:48:30.250751Z",
     "shell.execute_reply": "2023-12-12T19:48:30.249666Z"
    },
    "papermill": {
     "duration": 0.026955,
     "end_time": "2023-12-12T19:48:30.252984",
     "exception": false,
     "start_time": "2023-12-12T19:48:30.226029",
     "status": "completed"
    },
    "tags": []
   },
   "outputs": [
    {
     "data": {
      "text/plain": [
       "model           0\n",
       "year            0\n",
       "motor_type      0\n",
       "running         0\n",
       "wheel           0\n",
       "color           0\n",
       "type            0\n",
       "status          0\n",
       "motor_volume    0\n",
       "price           0\n",
       "dtype: int64"
      ]
     },
     "execution_count": 7,
     "metadata": {},
     "output_type": "execute_result"
    }
   ],
   "source": [
    "train.isna().sum()"
   ]
  },
  {
   "cell_type": "code",
   "execution_count": 8,
   "id": "a9150145",
   "metadata": {
    "execution": {
     "iopub.execute_input": "2023-12-12T19:48:30.371345Z",
     "iopub.status.busy": "2023-12-12T19:48:30.370937Z",
     "iopub.status.idle": "2023-12-12T19:48:30.376634Z",
     "shell.execute_reply": "2023-12-12T19:48:30.375888Z"
    },
    "papermill": {
     "duration": 0.08242,
     "end_time": "2023-12-12T19:48:30.378574",
     "exception": false,
     "start_time": "2023-12-12T19:48:30.296154",
     "status": "completed"
    },
    "tags": []
   },
   "outputs": [
    {
     "data": {
      "text/plain": [
       "(411, 10)"
      ]
     },
     "execution_count": 8,
     "metadata": {},
     "output_type": "execute_result"
    }
   ],
   "source": [
    "test.shape"
   ]
  },
  {
   "cell_type": "code",
   "execution_count": 9,
   "id": "d0ef7753",
   "metadata": {
    "execution": {
     "iopub.execute_input": "2023-12-12T19:48:30.409640Z",
     "iopub.status.busy": "2023-12-12T19:48:30.408951Z",
     "iopub.status.idle": "2023-12-12T19:48:30.414499Z",
     "shell.execute_reply": "2023-12-12T19:48:30.413812Z"
    },
    "papermill": {
     "duration": 0.023301,
     "end_time": "2023-12-12T19:48:30.416423",
     "exception": false,
     "start_time": "2023-12-12T19:48:30.393122",
     "status": "completed"
    },
    "tags": []
   },
   "outputs": [
    {
     "data": {
      "text/plain": [
       "4110"
      ]
     },
     "execution_count": 9,
     "metadata": {},
     "output_type": "execute_result"
    }
   ],
   "source": [
    "test.size"
   ]
  },
  {
   "cell_type": "code",
   "execution_count": 10,
   "id": "18f95039",
   "metadata": {
    "execution": {
     "iopub.execute_input": "2023-12-12T19:48:30.447865Z",
     "iopub.status.busy": "2023-12-12T19:48:30.446886Z",
     "iopub.status.idle": "2023-12-12T19:48:30.459336Z",
     "shell.execute_reply": "2023-12-12T19:48:30.458339Z"
    },
    "papermill": {
     "duration": 0.030487,
     "end_time": "2023-12-12T19:48:30.461551",
     "exception": false,
     "start_time": "2023-12-12T19:48:30.431064",
     "status": "completed"
    },
    "tags": []
   },
   "outputs": [
    {
     "name": "stdout",
     "output_type": "stream",
     "text": [
      "<class 'pandas.core.frame.DataFrame'>\n",
      "RangeIndex: 411 entries, 0 to 410\n",
      "Data columns (total 10 columns):\n",
      " #   Column        Non-Null Count  Dtype  \n",
      "---  ------        --------------  -----  \n",
      " 0   Id            411 non-null    int64  \n",
      " 1   model         411 non-null    object \n",
      " 2   year          411 non-null    int64  \n",
      " 3   motor_type    411 non-null    object \n",
      " 4   running       411 non-null    object \n",
      " 5   wheel         411 non-null    object \n",
      " 6   color         411 non-null    object \n",
      " 7   type          411 non-null    object \n",
      " 8   status        411 non-null    object \n",
      " 9   motor_volume  411 non-null    float64\n",
      "dtypes: float64(1), int64(2), object(7)\n",
      "memory usage: 32.2+ KB\n"
     ]
    }
   ],
   "source": [
    "test.info()"
   ]
  },
  {
   "cell_type": "code",
   "execution_count": 11,
   "id": "c8ad5a55",
   "metadata": {
    "execution": {
     "iopub.execute_input": "2023-12-12T19:48:30.493745Z",
     "iopub.status.busy": "2023-12-12T19:48:30.493086Z",
     "iopub.status.idle": "2023-12-12T19:48:30.500675Z",
     "shell.execute_reply": "2023-12-12T19:48:30.499702Z"
    },
    "papermill": {
     "duration": 0.026013,
     "end_time": "2023-12-12T19:48:30.502874",
     "exception": false,
     "start_time": "2023-12-12T19:48:30.476861",
     "status": "completed"
    },
    "tags": []
   },
   "outputs": [
    {
     "data": {
      "text/plain": [
       "Id              0\n",
       "model           0\n",
       "year            0\n",
       "motor_type      0\n",
       "running         0\n",
       "wheel           0\n",
       "color           0\n",
       "type            0\n",
       "status          0\n",
       "motor_volume    0\n",
       "dtype: int64"
      ]
     },
     "execution_count": 11,
     "metadata": {},
     "output_type": "execute_result"
    }
   ],
   "source": [
    "test.isna().sum()"
   ]
  },
  {
   "cell_type": "code",
   "execution_count": 12,
   "id": "2ccd29c7",
   "metadata": {
    "execution": {
     "iopub.execute_input": "2023-12-12T19:48:30.630619Z",
     "iopub.status.busy": "2023-12-12T19:48:30.629712Z",
     "iopub.status.idle": "2023-12-12T19:48:30.648677Z",
     "shell.execute_reply": "2023-12-12T19:48:30.647817Z"
    },
    "papermill": {
     "duration": 0.037443,
     "end_time": "2023-12-12T19:48:30.651018",
     "exception": false,
     "start_time": "2023-12-12T19:48:30.613575",
     "status": "completed"
    },
    "tags": []
   },
   "outputs": [
    {
     "data": {
      "text/html": [
       "<div>\n",
       "<style scoped>\n",
       "    .dataframe tbody tr th:only-of-type {\n",
       "        vertical-align: middle;\n",
       "    }\n",
       "\n",
       "    .dataframe tbody tr th {\n",
       "        vertical-align: top;\n",
       "    }\n",
       "\n",
       "    .dataframe thead th {\n",
       "        text-align: right;\n",
       "    }\n",
       "</style>\n",
       "<table border=\"1\" class=\"dataframe\">\n",
       "  <thead>\n",
       "    <tr style=\"text-align: right;\">\n",
       "      <th></th>\n",
       "      <th>model</th>\n",
       "      <th>year</th>\n",
       "      <th>motor_type</th>\n",
       "      <th>running</th>\n",
       "      <th>wheel</th>\n",
       "      <th>color</th>\n",
       "      <th>type</th>\n",
       "      <th>status</th>\n",
       "      <th>motor_volume</th>\n",
       "      <th>price</th>\n",
       "      <th>Id</th>\n",
       "    </tr>\n",
       "  </thead>\n",
       "  <tbody>\n",
       "    <tr>\n",
       "      <th>0</th>\n",
       "      <td>toyota</td>\n",
       "      <td>2022</td>\n",
       "      <td>petrol</td>\n",
       "      <td>3000  km</td>\n",
       "      <td>left</td>\n",
       "      <td>skyblue</td>\n",
       "      <td>sedan</td>\n",
       "      <td>excellent</td>\n",
       "      <td>2.0</td>\n",
       "      <td>24500.0</td>\n",
       "      <td>NaN</td>\n",
       "    </tr>\n",
       "    <tr>\n",
       "      <th>1</th>\n",
       "      <td>mercedes-benz</td>\n",
       "      <td>2014</td>\n",
       "      <td>petrol</td>\n",
       "      <td>132000  km</td>\n",
       "      <td>left</td>\n",
       "      <td>black</td>\n",
       "      <td>sedan</td>\n",
       "      <td>excellent</td>\n",
       "      <td>2.0</td>\n",
       "      <td>25500.0</td>\n",
       "      <td>NaN</td>\n",
       "    </tr>\n",
       "    <tr>\n",
       "      <th>2</th>\n",
       "      <td>kia</td>\n",
       "      <td>2018</td>\n",
       "      <td>petrol</td>\n",
       "      <td>95000  miles</td>\n",
       "      <td>left</td>\n",
       "      <td>other</td>\n",
       "      <td>sedan</td>\n",
       "      <td>excellent</td>\n",
       "      <td>2.0</td>\n",
       "      <td>11700.0</td>\n",
       "      <td>NaN</td>\n",
       "    </tr>\n",
       "    <tr>\n",
       "      <th>3</th>\n",
       "      <td>mercedes-benz</td>\n",
       "      <td>2002</td>\n",
       "      <td>petrol</td>\n",
       "      <td>137000  miles</td>\n",
       "      <td>left</td>\n",
       "      <td>golden</td>\n",
       "      <td>sedan</td>\n",
       "      <td>excellent</td>\n",
       "      <td>3.2</td>\n",
       "      <td>12000.0</td>\n",
       "      <td>NaN</td>\n",
       "    </tr>\n",
       "    <tr>\n",
       "      <th>4</th>\n",
       "      <td>mercedes-benz</td>\n",
       "      <td>2017</td>\n",
       "      <td>petrol</td>\n",
       "      <td>130000  km</td>\n",
       "      <td>left</td>\n",
       "      <td>black</td>\n",
       "      <td>sedan</td>\n",
       "      <td>good</td>\n",
       "      <td>2.0</td>\n",
       "      <td>26000.0</td>\n",
       "      <td>NaN</td>\n",
       "    </tr>\n",
       "  </tbody>\n",
       "</table>\n",
       "</div>"
      ],
      "text/plain": [
       "           model  year motor_type        running wheel    color   type  \\\n",
       "0         toyota  2022     petrol       3000  km  left  skyblue  sedan   \n",
       "1  mercedes-benz  2014     petrol     132000  km  left    black  sedan   \n",
       "2            kia  2018     petrol   95000  miles  left    other  sedan   \n",
       "3  mercedes-benz  2002     petrol  137000  miles  left   golden  sedan   \n",
       "4  mercedes-benz  2017     petrol     130000  km  left    black  sedan   \n",
       "\n",
       "      status  motor_volume    price  Id  \n",
       "0  excellent           2.0  24500.0 NaN  \n",
       "1  excellent           2.0  25500.0 NaN  \n",
       "2  excellent           2.0  11700.0 NaN  \n",
       "3  excellent           3.2  12000.0 NaN  \n",
       "4       good           2.0  26000.0 NaN  "
      ]
     },
     "execution_count": 12,
     "metadata": {},
     "output_type": "execute_result"
    }
   ],
   "source": [
    "data = pd.concat((train,test),axis=0)\n",
    "data.head()"
   ]
  },
  {
   "cell_type": "code",
   "execution_count": 13,
   "id": "9b58cc16",
   "metadata": {
    "execution": {
     "iopub.execute_input": "2023-12-12T19:48:30.684157Z",
     "iopub.status.busy": "2023-12-12T19:48:30.683511Z",
     "iopub.status.idle": "2023-12-12T19:48:30.689479Z",
     "shell.execute_reply": "2023-12-12T19:48:30.688550Z"
    },
    "papermill": {
     "duration": 0.024519,
     "end_time": "2023-12-12T19:48:30.691544",
     "exception": false,
     "start_time": "2023-12-12T19:48:30.667025",
     "status": "completed"
    },
    "tags": []
   },
   "outputs": [
    {
     "data": {
      "text/plain": [
       "(2053, 11)"
      ]
     },
     "execution_count": 13,
     "metadata": {},
     "output_type": "execute_result"
    }
   ],
   "source": [
    "data.shape"
   ]
  },
  {
   "cell_type": "code",
   "execution_count": 14,
   "id": "06da8512",
   "metadata": {
    "execution": {
     "iopub.execute_input": "2023-12-12T19:48:30.724688Z",
     "iopub.status.busy": "2023-12-12T19:48:30.723829Z",
     "iopub.status.idle": "2023-12-12T19:48:30.729557Z",
     "shell.execute_reply": "2023-12-12T19:48:30.728591Z"
    },
    "papermill": {
     "duration": 0.024565,
     "end_time": "2023-12-12T19:48:30.731444",
     "exception": false,
     "start_time": "2023-12-12T19:48:30.706879",
     "status": "completed"
    },
    "tags": []
   },
   "outputs": [
    {
     "data": {
      "text/plain": [
       "22583"
      ]
     },
     "execution_count": 14,
     "metadata": {},
     "output_type": "execute_result"
    }
   ],
   "source": [
    "data.size"
   ]
  },
  {
   "cell_type": "code",
   "execution_count": 15,
   "id": "ee6309e1",
   "metadata": {
    "execution": {
     "iopub.execute_input": "2023-12-12T19:48:30.764013Z",
     "iopub.status.busy": "2023-12-12T19:48:30.763389Z",
     "iopub.status.idle": "2023-12-12T19:48:30.775611Z",
     "shell.execute_reply": "2023-12-12T19:48:30.774361Z"
    },
    "papermill": {
     "duration": 0.031367,
     "end_time": "2023-12-12T19:48:30.778161",
     "exception": false,
     "start_time": "2023-12-12T19:48:30.746794",
     "status": "completed"
    },
    "tags": []
   },
   "outputs": [
    {
     "name": "stdout",
     "output_type": "stream",
     "text": [
      "<class 'pandas.core.frame.DataFrame'>\n",
      "Int64Index: 2053 entries, 0 to 410\n",
      "Data columns (total 11 columns):\n",
      " #   Column        Non-Null Count  Dtype  \n",
      "---  ------        --------------  -----  \n",
      " 0   model         2053 non-null   object \n",
      " 1   year          2053 non-null   int64  \n",
      " 2   motor_type    2053 non-null   object \n",
      " 3   running       2053 non-null   object \n",
      " 4   wheel         2053 non-null   object \n",
      " 5   color         2053 non-null   object \n",
      " 6   type          2053 non-null   object \n",
      " 7   status        2053 non-null   object \n",
      " 8   motor_volume  2053 non-null   float64\n",
      " 9   price         1642 non-null   float64\n",
      " 10  Id            411 non-null    float64\n",
      "dtypes: float64(3), int64(1), object(7)\n",
      "memory usage: 192.5+ KB\n"
     ]
    }
   ],
   "source": [
    "data.info()"
   ]
  },
  {
   "cell_type": "code",
   "execution_count": 16,
   "id": "9ece573e",
   "metadata": {
    "execution": {
     "iopub.execute_input": "2023-12-12T19:48:30.811700Z",
     "iopub.status.busy": "2023-12-12T19:48:30.810850Z",
     "iopub.status.idle": "2023-12-12T19:48:30.819393Z",
     "shell.execute_reply": "2023-12-12T19:48:30.818551Z"
    },
    "papermill": {
     "duration": 0.027606,
     "end_time": "2023-12-12T19:48:30.821502",
     "exception": false,
     "start_time": "2023-12-12T19:48:30.793896",
     "status": "completed"
    },
    "tags": []
   },
   "outputs": [
    {
     "data": {
      "text/plain": [
       "model           0\n",
       "year            0\n",
       "motor_type      0\n",
       "running         0\n",
       "wheel           0\n",
       "color           0\n",
       "type            0\n",
       "status          0\n",
       "motor_volume    0\n",
       "dtype: int64"
      ]
     },
     "execution_count": 16,
     "metadata": {},
     "output_type": "execute_result"
    }
   ],
   "source": [
    "data.isna().sum()[0:-2] ## the target variable is excluded from consideration."
   ]
  },
  {
   "cell_type": "code",
   "execution_count": 17,
   "id": "26883710",
   "metadata": {
    "execution": {
     "iopub.execute_input": "2023-12-12T19:48:30.855187Z",
     "iopub.status.busy": "2023-12-12T19:48:30.854574Z",
     "iopub.status.idle": "2023-12-12T19:48:30.864124Z",
     "shell.execute_reply": "2023-12-12T19:48:30.863024Z"
    },
    "papermill": {
     "duration": 0.029291,
     "end_time": "2023-12-12T19:48:30.866511",
     "exception": false,
     "start_time": "2023-12-12T19:48:30.837220",
     "status": "completed"
    },
    "tags": []
   },
   "outputs": [],
   "source": [
    "data[[\"running\", \"unit\"]] = data.running.str.split(expand=True)"
   ]
  },
  {
   "cell_type": "code",
   "execution_count": 18,
   "id": "47850a1d",
   "metadata": {
    "execution": {
     "iopub.execute_input": "2023-12-12T19:48:30.899930Z",
     "iopub.status.busy": "2023-12-12T19:48:30.899505Z",
     "iopub.status.idle": "2023-12-12T19:48:30.916015Z",
     "shell.execute_reply": "2023-12-12T19:48:30.915205Z"
    },
    "papermill": {
     "duration": 0.035477,
     "end_time": "2023-12-12T19:48:30.918010",
     "exception": false,
     "start_time": "2023-12-12T19:48:30.882533",
     "status": "completed"
    },
    "tags": []
   },
   "outputs": [
    {
     "data": {
      "text/html": [
       "<div>\n",
       "<style scoped>\n",
       "    .dataframe tbody tr th:only-of-type {\n",
       "        vertical-align: middle;\n",
       "    }\n",
       "\n",
       "    .dataframe tbody tr th {\n",
       "        vertical-align: top;\n",
       "    }\n",
       "\n",
       "    .dataframe thead th {\n",
       "        text-align: right;\n",
       "    }\n",
       "</style>\n",
       "<table border=\"1\" class=\"dataframe\">\n",
       "  <thead>\n",
       "    <tr style=\"text-align: right;\">\n",
       "      <th></th>\n",
       "      <th>model</th>\n",
       "      <th>year</th>\n",
       "      <th>motor_type</th>\n",
       "      <th>running</th>\n",
       "      <th>wheel</th>\n",
       "      <th>color</th>\n",
       "      <th>type</th>\n",
       "      <th>status</th>\n",
       "      <th>motor_volume</th>\n",
       "      <th>price</th>\n",
       "      <th>Id</th>\n",
       "      <th>unit</th>\n",
       "    </tr>\n",
       "  </thead>\n",
       "  <tbody>\n",
       "    <tr>\n",
       "      <th>0</th>\n",
       "      <td>toyota</td>\n",
       "      <td>2022</td>\n",
       "      <td>petrol</td>\n",
       "      <td>3000</td>\n",
       "      <td>left</td>\n",
       "      <td>skyblue</td>\n",
       "      <td>sedan</td>\n",
       "      <td>excellent</td>\n",
       "      <td>2.0</td>\n",
       "      <td>24500.0</td>\n",
       "      <td>NaN</td>\n",
       "      <td>km</td>\n",
       "    </tr>\n",
       "    <tr>\n",
       "      <th>1</th>\n",
       "      <td>mercedes-benz</td>\n",
       "      <td>2014</td>\n",
       "      <td>petrol</td>\n",
       "      <td>132000</td>\n",
       "      <td>left</td>\n",
       "      <td>black</td>\n",
       "      <td>sedan</td>\n",
       "      <td>excellent</td>\n",
       "      <td>2.0</td>\n",
       "      <td>25500.0</td>\n",
       "      <td>NaN</td>\n",
       "      <td>km</td>\n",
       "    </tr>\n",
       "    <tr>\n",
       "      <th>2</th>\n",
       "      <td>kia</td>\n",
       "      <td>2018</td>\n",
       "      <td>petrol</td>\n",
       "      <td>95000</td>\n",
       "      <td>left</td>\n",
       "      <td>other</td>\n",
       "      <td>sedan</td>\n",
       "      <td>excellent</td>\n",
       "      <td>2.0</td>\n",
       "      <td>11700.0</td>\n",
       "      <td>NaN</td>\n",
       "      <td>miles</td>\n",
       "    </tr>\n",
       "    <tr>\n",
       "      <th>3</th>\n",
       "      <td>mercedes-benz</td>\n",
       "      <td>2002</td>\n",
       "      <td>petrol</td>\n",
       "      <td>137000</td>\n",
       "      <td>left</td>\n",
       "      <td>golden</td>\n",
       "      <td>sedan</td>\n",
       "      <td>excellent</td>\n",
       "      <td>3.2</td>\n",
       "      <td>12000.0</td>\n",
       "      <td>NaN</td>\n",
       "      <td>miles</td>\n",
       "    </tr>\n",
       "    <tr>\n",
       "      <th>4</th>\n",
       "      <td>mercedes-benz</td>\n",
       "      <td>2017</td>\n",
       "      <td>petrol</td>\n",
       "      <td>130000</td>\n",
       "      <td>left</td>\n",
       "      <td>black</td>\n",
       "      <td>sedan</td>\n",
       "      <td>good</td>\n",
       "      <td>2.0</td>\n",
       "      <td>26000.0</td>\n",
       "      <td>NaN</td>\n",
       "      <td>km</td>\n",
       "    </tr>\n",
       "  </tbody>\n",
       "</table>\n",
       "</div>"
      ],
      "text/plain": [
       "           model  year motor_type running wheel    color   type     status  \\\n",
       "0         toyota  2022     petrol    3000  left  skyblue  sedan  excellent   \n",
       "1  mercedes-benz  2014     petrol  132000  left    black  sedan  excellent   \n",
       "2            kia  2018     petrol   95000  left    other  sedan  excellent   \n",
       "3  mercedes-benz  2002     petrol  137000  left   golden  sedan  excellent   \n",
       "4  mercedes-benz  2017     petrol  130000  left    black  sedan       good   \n",
       "\n",
       "   motor_volume    price  Id   unit  \n",
       "0           2.0  24500.0 NaN     km  \n",
       "1           2.0  25500.0 NaN     km  \n",
       "2           2.0  11700.0 NaN  miles  \n",
       "3           3.2  12000.0 NaN  miles  \n",
       "4           2.0  26000.0 NaN     km  "
      ]
     },
     "execution_count": 18,
     "metadata": {},
     "output_type": "execute_result"
    }
   ],
   "source": [
    "data.head()"
   ]
  },
  {
   "cell_type": "code",
   "execution_count": 19,
   "id": "c19fc6c2",
   "metadata": {
    "execution": {
     "iopub.execute_input": "2023-12-12T19:48:30.953175Z",
     "iopub.status.busy": "2023-12-12T19:48:30.952360Z",
     "iopub.status.idle": "2023-12-12T19:48:30.967557Z",
     "shell.execute_reply": "2023-12-12T19:48:30.966472Z"
    },
    "papermill": {
     "duration": 0.036238,
     "end_time": "2023-12-12T19:48:30.970025",
     "exception": false,
     "start_time": "2023-12-12T19:48:30.933787",
     "status": "completed"
    },
    "tags": []
   },
   "outputs": [
    {
     "name": "stdout",
     "output_type": "stream",
     "text": [
      "<class 'pandas.core.frame.DataFrame'>\n",
      "Int64Index: 2053 entries, 0 to 410\n",
      "Data columns (total 12 columns):\n",
      " #   Column        Non-Null Count  Dtype  \n",
      "---  ------        --------------  -----  \n",
      " 0   model         2053 non-null   object \n",
      " 1   year          2053 non-null   int64  \n",
      " 2   motor_type    2053 non-null   object \n",
      " 3   running       2053 non-null   float64\n",
      " 4   wheel         2053 non-null   object \n",
      " 5   color         2053 non-null   object \n",
      " 6   type          2053 non-null   object \n",
      " 7   status        2053 non-null   object \n",
      " 8   motor_volume  2053 non-null   float64\n",
      " 9   price         1642 non-null   float64\n",
      " 10  Id            411 non-null    float64\n",
      " 11  unit          2053 non-null   object \n",
      "dtypes: float64(4), int64(1), object(7)\n",
      "memory usage: 208.5+ KB\n"
     ]
    }
   ],
   "source": [
    "data.running = data.running.astype(\"float\")\n",
    "data.info()"
   ]
  },
  {
   "cell_type": "code",
   "execution_count": 20,
   "id": "16f0baea",
   "metadata": {
    "execution": {
     "iopub.execute_input": "2023-12-12T19:48:31.003622Z",
     "iopub.status.busy": "2023-12-12T19:48:31.003230Z",
     "iopub.status.idle": "2023-12-12T19:48:31.010369Z",
     "shell.execute_reply": "2023-12-12T19:48:31.009491Z"
    },
    "papermill": {
     "duration": 0.026388,
     "end_time": "2023-12-12T19:48:31.012451",
     "exception": false,
     "start_time": "2023-12-12T19:48:30.986063",
     "status": "completed"
    },
    "tags": []
   },
   "outputs": [],
   "source": [
    "data.loc[data['unit'] == 'miles', 'running'] *= 1.60934"
   ]
  },
  {
   "cell_type": "code",
   "execution_count": 21,
   "id": "404a5407",
   "metadata": {
    "execution": {
     "iopub.execute_input": "2023-12-12T19:48:31.045820Z",
     "iopub.status.busy": "2023-12-12T19:48:31.045456Z",
     "iopub.status.idle": "2023-12-12T19:48:31.053102Z",
     "shell.execute_reply": "2023-12-12T19:48:31.052066Z"
    },
    "papermill": {
     "duration": 0.026949,
     "end_time": "2023-12-12T19:48:31.055326",
     "exception": false,
     "start_time": "2023-12-12T19:48:31.028377",
     "status": "completed"
    },
    "tags": []
   },
   "outputs": [],
   "source": [
    "data.drop([\"unit\",\"Id\"], axis = 1, inplace = True)"
   ]
  },
  {
   "cell_type": "code",
   "execution_count": 22,
   "id": "29a30802",
   "metadata": {
    "execution": {
     "iopub.execute_input": "2023-12-12T19:48:31.088820Z",
     "iopub.status.busy": "2023-12-12T19:48:31.088429Z",
     "iopub.status.idle": "2023-12-12T19:48:31.104715Z",
     "shell.execute_reply": "2023-12-12T19:48:31.103658Z"
    },
    "papermill": {
     "duration": 0.035533,
     "end_time": "2023-12-12T19:48:31.106711",
     "exception": false,
     "start_time": "2023-12-12T19:48:31.071178",
     "status": "completed"
    },
    "tags": []
   },
   "outputs": [
    {
     "data": {
      "text/html": [
       "<div>\n",
       "<style scoped>\n",
       "    .dataframe tbody tr th:only-of-type {\n",
       "        vertical-align: middle;\n",
       "    }\n",
       "\n",
       "    .dataframe tbody tr th {\n",
       "        vertical-align: top;\n",
       "    }\n",
       "\n",
       "    .dataframe thead th {\n",
       "        text-align: right;\n",
       "    }\n",
       "</style>\n",
       "<table border=\"1\" class=\"dataframe\">\n",
       "  <thead>\n",
       "    <tr style=\"text-align: right;\">\n",
       "      <th></th>\n",
       "      <th>model</th>\n",
       "      <th>year</th>\n",
       "      <th>motor_type</th>\n",
       "      <th>running</th>\n",
       "      <th>wheel</th>\n",
       "      <th>color</th>\n",
       "      <th>type</th>\n",
       "      <th>status</th>\n",
       "      <th>motor_volume</th>\n",
       "      <th>price</th>\n",
       "    </tr>\n",
       "  </thead>\n",
       "  <tbody>\n",
       "    <tr>\n",
       "      <th>0</th>\n",
       "      <td>toyota</td>\n",
       "      <td>2022</td>\n",
       "      <td>petrol</td>\n",
       "      <td>3000.00</td>\n",
       "      <td>left</td>\n",
       "      <td>skyblue</td>\n",
       "      <td>sedan</td>\n",
       "      <td>excellent</td>\n",
       "      <td>2.0</td>\n",
       "      <td>24500.0</td>\n",
       "    </tr>\n",
       "    <tr>\n",
       "      <th>1</th>\n",
       "      <td>mercedes-benz</td>\n",
       "      <td>2014</td>\n",
       "      <td>petrol</td>\n",
       "      <td>132000.00</td>\n",
       "      <td>left</td>\n",
       "      <td>black</td>\n",
       "      <td>sedan</td>\n",
       "      <td>excellent</td>\n",
       "      <td>2.0</td>\n",
       "      <td>25500.0</td>\n",
       "    </tr>\n",
       "    <tr>\n",
       "      <th>2</th>\n",
       "      <td>kia</td>\n",
       "      <td>2018</td>\n",
       "      <td>petrol</td>\n",
       "      <td>152887.30</td>\n",
       "      <td>left</td>\n",
       "      <td>other</td>\n",
       "      <td>sedan</td>\n",
       "      <td>excellent</td>\n",
       "      <td>2.0</td>\n",
       "      <td>11700.0</td>\n",
       "    </tr>\n",
       "    <tr>\n",
       "      <th>3</th>\n",
       "      <td>mercedes-benz</td>\n",
       "      <td>2002</td>\n",
       "      <td>petrol</td>\n",
       "      <td>220479.58</td>\n",
       "      <td>left</td>\n",
       "      <td>golden</td>\n",
       "      <td>sedan</td>\n",
       "      <td>excellent</td>\n",
       "      <td>3.2</td>\n",
       "      <td>12000.0</td>\n",
       "    </tr>\n",
       "    <tr>\n",
       "      <th>4</th>\n",
       "      <td>mercedes-benz</td>\n",
       "      <td>2017</td>\n",
       "      <td>petrol</td>\n",
       "      <td>130000.00</td>\n",
       "      <td>left</td>\n",
       "      <td>black</td>\n",
       "      <td>sedan</td>\n",
       "      <td>good</td>\n",
       "      <td>2.0</td>\n",
       "      <td>26000.0</td>\n",
       "    </tr>\n",
       "  </tbody>\n",
       "</table>\n",
       "</div>"
      ],
      "text/plain": [
       "           model  year motor_type    running wheel    color   type     status  \\\n",
       "0         toyota  2022     petrol    3000.00  left  skyblue  sedan  excellent   \n",
       "1  mercedes-benz  2014     petrol  132000.00  left    black  sedan  excellent   \n",
       "2            kia  2018     petrol  152887.30  left    other  sedan  excellent   \n",
       "3  mercedes-benz  2002     petrol  220479.58  left   golden  sedan  excellent   \n",
       "4  mercedes-benz  2017     petrol  130000.00  left    black  sedan       good   \n",
       "\n",
       "   motor_volume    price  \n",
       "0           2.0  24500.0  \n",
       "1           2.0  25500.0  \n",
       "2           2.0  11700.0  \n",
       "3           3.2  12000.0  \n",
       "4           2.0  26000.0  "
      ]
     },
     "execution_count": 22,
     "metadata": {},
     "output_type": "execute_result"
    }
   ],
   "source": [
    "data.head()"
   ]
  },
  {
   "cell_type": "code",
   "execution_count": 23,
   "id": "261294c2",
   "metadata": {
    "execution": {
     "iopub.execute_input": "2023-12-12T19:48:31.172878Z",
     "iopub.status.busy": "2023-12-12T19:48:31.172505Z",
     "iopub.status.idle": "2023-12-12T19:48:31.197625Z",
     "shell.execute_reply": "2023-12-12T19:48:31.196587Z"
    },
    "papermill": {
     "duration": 0.044898,
     "end_time": "2023-12-12T19:48:31.199842",
     "exception": false,
     "start_time": "2023-12-12T19:48:31.154944",
     "status": "completed"
    },
    "tags": []
   },
   "outputs": [
    {
     "data": {
      "text/html": [
       "<div>\n",
       "<style scoped>\n",
       "    .dataframe tbody tr th:only-of-type {\n",
       "        vertical-align: middle;\n",
       "    }\n",
       "\n",
       "    .dataframe tbody tr th {\n",
       "        vertical-align: top;\n",
       "    }\n",
       "\n",
       "    .dataframe thead th {\n",
       "        text-align: right;\n",
       "    }\n",
       "</style>\n",
       "<table border=\"1\" class=\"dataframe\">\n",
       "  <thead>\n",
       "    <tr style=\"text-align: right;\">\n",
       "      <th></th>\n",
       "      <th>year</th>\n",
       "      <th>running</th>\n",
       "      <th>motor_volume</th>\n",
       "      <th>price</th>\n",
       "    </tr>\n",
       "  </thead>\n",
       "  <tbody>\n",
       "    <tr>\n",
       "      <th>count</th>\n",
       "      <td>2053.000000</td>\n",
       "      <td>2.053000e+03</td>\n",
       "      <td>2053.000000</td>\n",
       "      <td>1642.000000</td>\n",
       "    </tr>\n",
       "    <tr>\n",
       "      <th>mean</th>\n",
       "      <td>2014.837311</td>\n",
       "      <td>1.184595e+05</td>\n",
       "      <td>2.033025</td>\n",
       "      <td>15982.633374</td>\n",
       "    </tr>\n",
       "    <tr>\n",
       "      <th>std</th>\n",
       "      <td>6.576572</td>\n",
       "      <td>9.468929e+04</td>\n",
       "      <td>0.248348</td>\n",
       "      <td>7176.084647</td>\n",
       "    </tr>\n",
       "    <tr>\n",
       "      <th>min</th>\n",
       "      <td>1987.000000</td>\n",
       "      <td>1.000000e+01</td>\n",
       "      <td>0.200000</td>\n",
       "      <td>462.000000</td>\n",
       "    </tr>\n",
       "    <tr>\n",
       "      <th>25%</th>\n",
       "      <td>2013.000000</td>\n",
       "      <td>5.600000e+04</td>\n",
       "      <td>2.000000</td>\n",
       "      <td>12000.000000</td>\n",
       "    </tr>\n",
       "    <tr>\n",
       "      <th>50%</th>\n",
       "      <td>2017.000000</td>\n",
       "      <td>9.857207e+04</td>\n",
       "      <td>2.000000</td>\n",
       "      <td>15750.000000</td>\n",
       "    </tr>\n",
       "    <tr>\n",
       "      <th>75%</th>\n",
       "      <td>2019.000000</td>\n",
       "      <td>1.600000e+05</td>\n",
       "      <td>2.000000</td>\n",
       "      <td>18500.000000</td>\n",
       "    </tr>\n",
       "    <tr>\n",
       "      <th>max</th>\n",
       "      <td>2023.000000</td>\n",
       "      <td>1.251708e+06</td>\n",
       "      <td>4.300000</td>\n",
       "      <td>87000.000000</td>\n",
       "    </tr>\n",
       "  </tbody>\n",
       "</table>\n",
       "</div>"
      ],
      "text/plain": [
       "              year       running  motor_volume         price\n",
       "count  2053.000000  2.053000e+03   2053.000000   1642.000000\n",
       "mean   2014.837311  1.184595e+05      2.033025  15982.633374\n",
       "std       6.576572  9.468929e+04      0.248348   7176.084647\n",
       "min    1987.000000  1.000000e+01      0.200000    462.000000\n",
       "25%    2013.000000  5.600000e+04      2.000000  12000.000000\n",
       "50%    2017.000000  9.857207e+04      2.000000  15750.000000\n",
       "75%    2019.000000  1.600000e+05      2.000000  18500.000000\n",
       "max    2023.000000  1.251708e+06      4.300000  87000.000000"
      ]
     },
     "execution_count": 23,
     "metadata": {},
     "output_type": "execute_result"
    }
   ],
   "source": [
    "data.describe()"
   ]
  },
  {
   "cell_type": "code",
   "execution_count": 24,
   "id": "cd046a8d",
   "metadata": {
    "execution": {
     "iopub.execute_input": "2023-12-12T19:48:31.234977Z",
     "iopub.status.busy": "2023-12-12T19:48:31.234281Z",
     "iopub.status.idle": "2023-12-12T19:48:31.256530Z",
     "shell.execute_reply": "2023-12-12T19:48:31.255575Z"
    },
    "papermill": {
     "duration": 0.041971,
     "end_time": "2023-12-12T19:48:31.258595",
     "exception": false,
     "start_time": "2023-12-12T19:48:31.216624",
     "status": "completed"
    },
    "tags": []
   },
   "outputs": [
    {
     "data": {
      "text/html": [
       "<div>\n",
       "<style scoped>\n",
       "    .dataframe tbody tr th:only-of-type {\n",
       "        vertical-align: middle;\n",
       "    }\n",
       "\n",
       "    .dataframe tbody tr th {\n",
       "        vertical-align: top;\n",
       "    }\n",
       "\n",
       "    .dataframe thead th {\n",
       "        text-align: right;\n",
       "    }\n",
       "</style>\n",
       "<table border=\"1\" class=\"dataframe\">\n",
       "  <thead>\n",
       "    <tr style=\"text-align: right;\">\n",
       "      <th></th>\n",
       "      <th>count</th>\n",
       "      <th>unique</th>\n",
       "      <th>top</th>\n",
       "      <th>freq</th>\n",
       "    </tr>\n",
       "  </thead>\n",
       "  <tbody>\n",
       "    <tr>\n",
       "      <th>model</th>\n",
       "      <td>2053</td>\n",
       "      <td>5</td>\n",
       "      <td>mercedes-benz</td>\n",
       "      <td>495</td>\n",
       "    </tr>\n",
       "    <tr>\n",
       "      <th>motor_type</th>\n",
       "      <td>2053</td>\n",
       "      <td>5</td>\n",
       "      <td>petrol</td>\n",
       "      <td>1776</td>\n",
       "    </tr>\n",
       "    <tr>\n",
       "      <th>wheel</th>\n",
       "      <td>2053</td>\n",
       "      <td>2</td>\n",
       "      <td>left</td>\n",
       "      <td>2051</td>\n",
       "    </tr>\n",
       "    <tr>\n",
       "      <th>color</th>\n",
       "      <td>2053</td>\n",
       "      <td>17</td>\n",
       "      <td>black</td>\n",
       "      <td>672</td>\n",
       "    </tr>\n",
       "    <tr>\n",
       "      <th>type</th>\n",
       "      <td>2053</td>\n",
       "      <td>7</td>\n",
       "      <td>sedan</td>\n",
       "      <td>1596</td>\n",
       "    </tr>\n",
       "    <tr>\n",
       "      <th>status</th>\n",
       "      <td>2053</td>\n",
       "      <td>5</td>\n",
       "      <td>excellent</td>\n",
       "      <td>1504</td>\n",
       "    </tr>\n",
       "  </tbody>\n",
       "</table>\n",
       "</div>"
      ],
      "text/plain": [
       "           count unique            top  freq\n",
       "model       2053      5  mercedes-benz   495\n",
       "motor_type  2053      5         petrol  1776\n",
       "wheel       2053      2           left  2051\n",
       "color       2053     17          black   672\n",
       "type        2053      7          sedan  1596\n",
       "status      2053      5      excellent  1504"
      ]
     },
     "execution_count": 24,
     "metadata": {},
     "output_type": "execute_result"
    }
   ],
   "source": [
    "data.describe(include = \"object\").T"
   ]
  },
  {
   "cell_type": "code",
   "execution_count": 26,
   "id": "824ea2ac",
   "metadata": {
    "execution": {
     "iopub.execute_input": "2023-12-12T19:48:31.710014Z",
     "iopub.status.busy": "2023-12-12T19:48:31.709645Z",
     "iopub.status.idle": "2023-12-12T19:48:33.026727Z",
     "shell.execute_reply": "2023-12-12T19:48:33.025639Z"
    },
    "papermill": {
     "duration": 1.337887,
     "end_time": "2023-12-12T19:48:33.028937",
     "exception": false,
     "start_time": "2023-12-12T19:48:31.691050",
     "status": "completed"
    },
    "tags": []
   },
   "outputs": [
    {
     "data": {
      "image/png": "[encoded data removed]",
      "text/plain": [
       "<Figure size 1000x500 with 2 Axes>"
      ]
     },
     "metadata": {},
     "output_type": "display_data"
    },
    {
     "data": {
      "image/png": "[encoded data removed]",
      "text/plain": [
       "<Figure size 1000x500 with 2 Axes>"
      ]
     },
     "metadata": {},
     "output_type": "display_data"
    },
    {
     "data": {
      "image/png": "[encoded data removed]",
      "text/plain": [
       "<Figure size 1000x500 with 2 Axes>"
      ]
     },
     "metadata": {},
     "output_type": "display_data"
    }
   ],
   "source": [
    "for col in data.columns:\n",
    "    if data[col].dtype != \"object\" and col != \"year\":\n",
    "        fig ,(fig1 , fig2) = plt.subplots(1,2,figsize=(10,5))\n",
    "        sns.distplot(data[col], ax = fig1)\n",
    "        sns.boxplot(y = data[col], ax = fig2)\n",
    "        plt.show()"
   ]
  },
  {
   "cell_type": "code",
   "execution_count": 27,
   "id": "be04a37b",
   "metadata": {
    "execution": {
     "iopub.execute_input": "2023-12-12T19:48:33.144683Z",
     "iopub.status.busy": "2023-12-12T19:48:33.144237Z",
     "iopub.status.idle": "2023-12-12T19:48:33.290503Z",
     "shell.execute_reply": "2023-12-12T19:48:33.289558Z"
    },
    "papermill": {
     "duration": 0.168974,
     "end_time": "2023-12-12T19:48:33.292942",
     "exception": false,
     "start_time": "2023-12-12T19:48:33.123968",
     "status": "completed"
    },
    "tags": []
   },
   "outputs": [],
   "source": [
    "from sklearn.preprocessing import LabelEncoder\n",
    "\n",
    "for col in data.columns:\n",
    "    if data[col].dtype == \"object\":\n",
    "        data[col] = LabelEncoder().fit_transform(data[col])"
   ]
  },
  {
   "cell_type": "code",
   "execution_count": 28,
   "id": "bbb88703",
   "metadata": {
    "execution": {
     "iopub.execute_input": "2023-12-12T19:48:33.336146Z",
     "iopub.status.busy": "2023-12-12T19:48:33.335204Z",
     "iopub.status.idle": "2023-12-12T19:48:33.349024Z",
     "shell.execute_reply": "2023-12-12T19:48:33.348153Z"
    },
    "papermill": {
     "duration": 0.038666,
     "end_time": "2023-12-12T19:48:33.351345",
     "exception": false,
     "start_time": "2023-12-12T19:48:33.312679",
     "status": "completed"
    },
    "tags": []
   },
   "outputs": [
    {
     "data": {
      "text/html": [
       "<div>\n",
       "<style scoped>\n",
       "    .dataframe tbody tr th:only-of-type {\n",
       "        vertical-align: middle;\n",
       "    }\n",
       "\n",
       "    .dataframe tbody tr th {\n",
       "        vertical-align: top;\n",
       "    }\n",
       "\n",
       "    .dataframe thead th {\n",
       "        text-align: right;\n",
       "    }\n",
       "</style>\n",
       "<table border=\"1\" class=\"dataframe\">\n",
       "  <thead>\n",
       "    <tr style=\"text-align: right;\">\n",
       "      <th></th>\n",
       "      <th>model</th>\n",
       "      <th>year</th>\n",
       "      <th>motor_type</th>\n",
       "      <th>running</th>\n",
       "      <th>wheel</th>\n",
       "      <th>color</th>\n",
       "      <th>type</th>\n",
       "      <th>status</th>\n",
       "      <th>motor_volume</th>\n",
       "      <th>price</th>\n",
       "    </tr>\n",
       "  </thead>\n",
       "  <tbody>\n",
       "    <tr>\n",
       "      <th>0</th>\n",
       "      <td>4</td>\n",
       "      <td>2022</td>\n",
       "      <td>3</td>\n",
       "      <td>3000.00</td>\n",
       "      <td>0</td>\n",
       "      <td>15</td>\n",
       "      <td>5</td>\n",
       "      <td>1</td>\n",
       "      <td>2.0</td>\n",
       "      <td>24500.0</td>\n",
       "    </tr>\n",
       "    <tr>\n",
       "      <th>1</th>\n",
       "      <td>2</td>\n",
       "      <td>2014</td>\n",
       "      <td>3</td>\n",
       "      <td>132000.00</td>\n",
       "      <td>0</td>\n",
       "      <td>1</td>\n",
       "      <td>5</td>\n",
       "      <td>1</td>\n",
       "      <td>2.0</td>\n",
       "      <td>25500.0</td>\n",
       "    </tr>\n",
       "    <tr>\n",
       "      <th>2</th>\n",
       "      <td>1</td>\n",
       "      <td>2018</td>\n",
       "      <td>3</td>\n",
       "      <td>152887.30</td>\n",
       "      <td>0</td>\n",
       "      <td>10</td>\n",
       "      <td>5</td>\n",
       "      <td>1</td>\n",
       "      <td>2.0</td>\n",
       "      <td>11700.0</td>\n",
       "    </tr>\n",
       "    <tr>\n",
       "      <th>3</th>\n",
       "      <td>2</td>\n",
       "      <td>2002</td>\n",
       "      <td>3</td>\n",
       "      <td>220479.58</td>\n",
       "      <td>0</td>\n",
       "      <td>6</td>\n",
       "      <td>5</td>\n",
       "      <td>1</td>\n",
       "      <td>3.2</td>\n",
       "      <td>12000.0</td>\n",
       "    </tr>\n",
       "    <tr>\n",
       "      <th>4</th>\n",
       "      <td>2</td>\n",
       "      <td>2017</td>\n",
       "      <td>3</td>\n",
       "      <td>130000.00</td>\n",
       "      <td>0</td>\n",
       "      <td>1</td>\n",
       "      <td>5</td>\n",
       "      <td>2</td>\n",
       "      <td>2.0</td>\n",
       "      <td>26000.0</td>\n",
       "    </tr>\n",
       "  </tbody>\n",
       "</table>\n",
       "</div>"
      ],
      "text/plain": [
       "   model  year  motor_type    running  wheel  color  type  status  \\\n",
       "0      4  2022           3    3000.00      0     15     5       1   \n",
       "1      2  2014           3  132000.00      0      1     5       1   \n",
       "2      1  2018           3  152887.30      0     10     5       1   \n",
       "3      2  2002           3  220479.58      0      6     5       1   \n",
       "4      2  2017           3  130000.00      0      1     5       2   \n",
       "\n",
       "   motor_volume    price  \n",
       "0           2.0  24500.0  \n",
       "1           2.0  25500.0  \n",
       "2           2.0  11700.0  \n",
       "3           3.2  12000.0  \n",
       "4           2.0  26000.0  "
      ]
     },
     "execution_count": 28,
     "metadata": {},
     "output_type": "execute_result"
    }
   ],
   "source": [
    "data.head()"
   ]
  },
  {
   "cell_type": "code",
   "execution_count": 29,
   "id": "a6fb8ae1",
   "metadata": {
    "execution": {
     "iopub.execute_input": "2023-12-12T19:48:33.391805Z",
     "iopub.status.busy": "2023-12-12T19:48:33.391121Z",
     "iopub.status.idle": "2023-12-12T19:48:33.404031Z",
     "shell.execute_reply": "2023-12-12T19:48:33.403317Z"
    },
    "papermill": {
     "duration": 0.035492,
     "end_time": "2023-12-12T19:48:33.406037",
     "exception": false,
     "start_time": "2023-12-12T19:48:33.370545",
     "status": "completed"
    },
    "tags": []
   },
   "outputs": [
    {
     "data": {
      "text/html": [
       "<div>\n",
       "<style scoped>\n",
       "    .dataframe tbody tr th:only-of-type {\n",
       "        vertical-align: middle;\n",
       "    }\n",
       "\n",
       "    .dataframe tbody tr th {\n",
       "        vertical-align: top;\n",
       "    }\n",
       "\n",
       "    .dataframe thead th {\n",
       "        text-align: right;\n",
       "    }\n",
       "</style>\n",
       "<table border=\"1\" class=\"dataframe\">\n",
       "  <thead>\n",
       "    <tr style=\"text-align: right;\">\n",
       "      <th></th>\n",
       "      <th>model</th>\n",
       "      <th>year</th>\n",
       "      <th>motor_type</th>\n",
       "      <th>running</th>\n",
       "      <th>wheel</th>\n",
       "      <th>color</th>\n",
       "      <th>type</th>\n",
       "      <th>status</th>\n",
       "      <th>motor_volume</th>\n",
       "      <th>price</th>\n",
       "    </tr>\n",
       "  </thead>\n",
       "  <tbody>\n",
       "    <tr>\n",
       "      <th>406</th>\n",
       "      <td>3</td>\n",
       "      <td>2021</td>\n",
       "      <td>3</td>\n",
       "      <td>33400.0</td>\n",
       "      <td>0</td>\n",
       "      <td>1</td>\n",
       "      <td>6</td>\n",
       "      <td>1</td>\n",
       "      <td>2.0</td>\n",
       "      <td>NaN</td>\n",
       "    </tr>\n",
       "    <tr>\n",
       "      <th>407</th>\n",
       "      <td>0</td>\n",
       "      <td>2017</td>\n",
       "      <td>3</td>\n",
       "      <td>96560.4</td>\n",
       "      <td>0</td>\n",
       "      <td>10</td>\n",
       "      <td>5</td>\n",
       "      <td>1</td>\n",
       "      <td>2.0</td>\n",
       "      <td>NaN</td>\n",
       "    </tr>\n",
       "    <tr>\n",
       "      <th>408</th>\n",
       "      <td>2</td>\n",
       "      <td>2012</td>\n",
       "      <td>3</td>\n",
       "      <td>218000.0</td>\n",
       "      <td>0</td>\n",
       "      <td>16</td>\n",
       "      <td>5</td>\n",
       "      <td>2</td>\n",
       "      <td>2.0</td>\n",
       "      <td>NaN</td>\n",
       "    </tr>\n",
       "    <tr>\n",
       "      <th>409</th>\n",
       "      <td>1</td>\n",
       "      <td>2020</td>\n",
       "      <td>3</td>\n",
       "      <td>64373.6</td>\n",
       "      <td>0</td>\n",
       "      <td>13</td>\n",
       "      <td>5</td>\n",
       "      <td>2</td>\n",
       "      <td>2.0</td>\n",
       "      <td>NaN</td>\n",
       "    </tr>\n",
       "    <tr>\n",
       "      <th>410</th>\n",
       "      <td>0</td>\n",
       "      <td>2017</td>\n",
       "      <td>3</td>\n",
       "      <td>193120.8</td>\n",
       "      <td>0</td>\n",
       "      <td>16</td>\n",
       "      <td>5</td>\n",
       "      <td>1</td>\n",
       "      <td>2.0</td>\n",
       "      <td>NaN</td>\n",
       "    </tr>\n",
       "  </tbody>\n",
       "</table>\n",
       "</div>"
      ],
      "text/plain": [
       "     model  year  motor_type   running  wheel  color  type  status  \\\n",
       "406      3  2021           3   33400.0      0      1     6       1   \n",
       "407      0  2017           3   96560.4      0     10     5       1   \n",
       "408      2  2012           3  218000.0      0     16     5       2   \n",
       "409      1  2020           3   64373.6      0     13     5       2   \n",
       "410      0  2017           3  193120.8      0     16     5       1   \n",
       "\n",
       "     motor_volume  price  \n",
       "406           2.0    NaN  \n",
       "407           2.0    NaN  \n",
       "408           2.0    NaN  \n",
       "409           2.0    NaN  \n",
       "410           2.0    NaN  "
      ]
     },
     "execution_count": 29,
     "metadata": {},
     "output_type": "execute_result"
    }
   ],
   "source": [
    "data.tail()"
   ]
  },
  {
   "cell_type": "code",
   "execution_count": 30,
   "id": "2dccedcb",
   "metadata": {
    "execution": {
     "iopub.execute_input": "2023-12-12T19:48:33.485676Z",
     "iopub.status.busy": "2023-12-12T19:48:33.485013Z",
     "iopub.status.idle": "2023-12-12T19:48:33.491839Z",
     "shell.execute_reply": "2023-12-12T19:48:33.491076Z"
    },
    "papermill": {
     "duration": 0.030115,
     "end_time": "2023-12-12T19:48:33.494099",
     "exception": false,
     "start_time": "2023-12-12T19:48:33.463984",
     "status": "completed"
    },
    "tags": []
   },
   "outputs": [],
   "source": [
    "X = data.iloc[:,:-1]\n",
    "y = data.iloc[:,-1]"
   ]
  },
  {
   "cell_type": "code",
   "execution_count": 31,
   "id": "14252558",
   "metadata": {
    "execution": {
     "iopub.execute_input": "2023-12-12T19:48:33.535055Z",
     "iopub.status.busy": "2023-12-12T19:48:33.534370Z",
     "iopub.status.idle": "2023-12-12T19:48:33.631753Z",
     "shell.execute_reply": "2023-12-12T19:48:33.630872Z"
    },
    "papermill": {
     "duration": 0.120949,
     "end_time": "2023-12-12T19:48:33.634234",
     "exception": false,
     "start_time": "2023-12-12T19:48:33.513285",
     "status": "completed"
    },
    "tags": []
   },
   "outputs": [],
   "source": [
    "from sklearn.model_selection import train_test_split\n",
    "\n",
    "X_train, X_test, y_train = X.iloc[:1642,:],X.iloc[1642:,:], y[:1642]"
   ]
  },
  {
   "cell_type": "code",
   "execution_count": 32,
   "id": "97c18928",
   "metadata": {
    "execution": {
     "iopub.execute_input": "2023-12-12T19:48:33.674981Z",
     "iopub.status.busy": "2023-12-12T19:48:33.674610Z",
     "iopub.status.idle": "2023-12-12T19:48:33.683646Z",
     "shell.execute_reply": "2023-12-12T19:48:33.682858Z"
    },
    "papermill": {
     "duration": 0.03156,
     "end_time": "2023-12-12T19:48:33.685488",
     "exception": false,
     "start_time": "2023-12-12T19:48:33.653928",
     "status": "completed"
    },
    "tags": []
   },
   "outputs": [
    {
     "data": {
      "text/plain": [
       "(1642, 9)"
      ]
     },
     "metadata": {},
     "output_type": "display_data"
    },
    {
     "data": {
      "text/plain": [
       "(1642,)"
      ]
     },
     "metadata": {},
     "output_type": "display_data"
    },
    {
     "data": {
      "text/plain": [
       "(411, 9)"
      ]
     },
     "metadata": {},
     "output_type": "display_data"
    }
   ],
   "source": [
    "display(X_train.shape)\n",
    "display(y_train.shape)\n",
    "display(X_test.shape)\n",
    "#display(y_test.shape)## but all the values are null"
   ]
  },
  {
   "cell_type": "code",
   "execution_count": 33,
   "id": "e78df137",
   "metadata": {
    "execution": {
     "iopub.execute_input": "2023-12-12T19:48:33.803959Z",
     "iopub.status.busy": "2023-12-12T19:48:33.803353Z",
     "iopub.status.idle": "2023-12-12T19:51:37.771717Z",
     "shell.execute_reply": "2023-12-12T19:51:37.770347Z"
    },
    "papermill": {
     "duration": 184.011806,
     "end_time": "2023-12-12T19:51:37.793969",
     "exception": false,
     "start_time": "2023-12-12T19:48:33.782163",
     "status": "completed"
    },
    "tags": []
   },
   "outputs": [
    {
     "name": "stdout",
     "output_type": "stream",
     "text": [
      "Best Parameters:  {'Gradient__learning_rate': 0.1, 'Gradient__max_depth': 3, 'Gradient__n_estimators': 150, 'poly__degree': 2}\n",
      "Best Accuracy:  0.7567797799266381\n"
     ]
    }
   ],
   "source": [
    "from sklearn.ensemble import GradientBoostingRegressor\n",
    "from sklearn.model_selection import GridSearchCV, KFold\n",
    "from sklearn.pipeline import Pipeline\n",
    "from sklearn.preprocessing import StandardScaler, PolynomialFeatures\n",
    "\n",
    "Cv = KFold(shuffle=True, random_state=1000, n_splits=4)\n",
    "gb_regressor = GradientBoostingRegressor()\n",
    "poly = PolynomialFeatures()\n",
    "s = StandardScaler()\n",
    "\n",
    "param_grid = {\n",
    "    'poly__degree': [2, 3],\n",
    "    'Gradient__n_estimators': [50, 100, 150],\n",
    "    'Gradient__learning_rate': [0.01, 0.1, 0.2],\n",
    "    'Gradient__max_depth': [3, 4, 5]\n",
    "}\n",
    "\n",
    "estimator = Pipeline([\n",
    "    (\"poly\", poly),\n",
    "    (\"scaler\", s),\n",
    "    (\"Gradient\", gb_regressor)\n",
    "])\n",
    "\n",
    "grid = GridSearchCV(estimator, param_grid, cv=Cv, n_jobs=-1)\n",
    "grid.fit(X_train, y_train)\n",
    "print(\"Best Parameters: \", grid.best_params_)\n",
    "print(\"Best Accuracy: \", grid.best_score_)\n"
   ]
  },
  {
   "cell_type": "code",
   "execution_count": 34,
   "id": "a7402cf9",
   "metadata": {
    "execution": {
     "iopub.execute_input": "2023-12-12T19:51:37.836197Z",
     "iopub.status.busy": "2023-12-12T19:51:37.834950Z",
     "iopub.status.idle": "2023-12-12T19:51:37.851743Z",
     "shell.execute_reply": "2023-12-12T19:51:37.850629Z"
    },
    "papermill": {
     "duration": 0.040373,
     "end_time": "2023-12-12T19:51:37.853987",
     "exception": false,
     "start_time": "2023-12-12T19:51:37.813614",
     "status": "completed"
    },
    "tags": []
   },
   "outputs": [
    {
     "name": "stdout",
     "output_type": "stream",
     "text": [
      "The p-value (0.0000) is less than 0.05. Reject the null hypothesis.\n",
      "The data may not be normally distributed.\n"
     ]
    }
   ],
   "source": [
    "from scipy.stats.mstats import normaltest\n",
    "\n",
    "result = normaltest(train.price.values)\n",
    "\n",
    "alpha = 0.05\n",
    "\n",
    "# Check the p-value against the significance level\n",
    "if result.pvalue < alpha:\n",
    "    print(f'The p-value ({result.pvalue:.4f}) is less than {alpha}. Reject the null hypothesis.')\n",
    "    print('The data may not be normally distributed.')\n",
    "else:\n",
    "    print(f'The p-value ({result.pvalue:.4f}) is greater than or equal to {alpha}. Fail to reject the null hypothesis.')\n",
    "    print('The data appears to be normally distributed.')\n"
   ]
  },
  {
   "cell_type": "code",
   "execution_count": 35,
   "id": "fdc64948",
   "metadata": {
    "execution": {
     "iopub.execute_input": "2023-12-12T19:51:37.895926Z",
     "iopub.status.busy": "2023-12-12T19:51:37.895354Z",
     "iopub.status.idle": "2023-12-12T19:51:38.155732Z",
     "shell.execute_reply": "2023-12-12T19:51:38.154622Z"
    },
    "papermill": {
     "duration": 0.283844,
     "end_time": "2023-12-12T19:51:38.158071",
     "exception": false,
     "start_time": "2023-12-12T19:51:37.874227",
     "status": "completed"
    },
    "tags": []
   },
   "outputs": [
    {
     "data": {
      "text/plain": [
       "<Axes: >"
      ]
     },
     "execution_count": 35,
     "metadata": {},
     "output_type": "execute_result"
    },
    {
     "data": {
      "image/png": "[encoded data removed]",
      "text/plain": [
       "<Figure size 640x480 with 1 Axes>"
      ]
     },
     "metadata": {},
     "output_type": "display_data"
    }
   ],
   "source": [
    "y_train.hist()"
   ]
  },
  {
   "cell_type": "code",
   "execution_count": 37,
   "id": "2ca2ee36",
   "metadata": {
    "execution": {
     "iopub.execute_input": "2023-12-12T19:51:38.200514Z",
     "iopub.status.busy": "2023-12-12T19:51:38.200084Z",
     "iopub.status.idle": "2023-12-12T19:51:38.211936Z",
     "shell.execute_reply": "2023-12-12T19:51:38.210742Z"
    },
    "papermill": {
     "duration": 0.035749,
     "end_time": "2023-12-12T19:51:38.214224",
     "exception": false,
     "start_time": "2023-12-12T19:51:38.178475",
     "status": "completed"
    },
    "tags": []
   },
   "outputs": [
    {
     "name": "stdout",
     "output_type": "stream",
     "text": [
      "The p-value (0.000000) is less than 0.05. Reject the null hypothesis.\n",
      "The data may not be normally distributed.\n"
     ]
    }
   ],
   "source": [
    "from scipy.stats.mstats import normaltest\n",
    "\n",
    "result = normaltest(y_train)\n",
    "\n",
    "alpha = 0.05\n",
    "\n",
    "# Check the p-value against the significance level\n",
    "if result.pvalue < alpha:\n",
    "    print(f'The p-value ({result.pvalue:.6f}) is less than {alpha}. Reject the null hypothesis.')\n",
    "    print('The data may not be normally distributed.')\n",
    "else:\n",
    "    print(f'The p-value ({result.pvalue:.6f}) is greater than or equal to {alpha}. Fail to reject the null hypothesis.')\n",
    "    print('The data appears to be normally distributed.')\n"
   ]
  },
  {
   "cell_type": "code",
   "execution_count": 38,
   "id": "380c1234",
   "metadata": {
    "execution": {
     "iopub.execute_input": "2023-12-12T19:51:38.337378Z",
     "iopub.status.busy": "2023-12-12T19:51:38.336977Z",
     "iopub.status.idle": "2023-12-12T19:51:38.342083Z",
     "shell.execute_reply": "2023-12-12T19:51:38.341163Z"
    },
    "papermill": {
     "duration": 0.028935,
     "end_time": "2023-12-12T19:51:38.344199",
     "exception": false,
     "start_time": "2023-12-12T19:51:38.315264",
     "status": "completed"
    },
    "tags": []
   },
   "outputs": [],
   "source": [
    "log_price = np.log(train.price)"
   ]
  },
  {
   "cell_type": "code",
   "execution_count": 39,
   "id": "bb662e02",
   "metadata": {
    "execution": {
     "iopub.execute_input": "2023-12-12T19:51:38.387579Z",
     "iopub.status.busy": "2023-12-12T19:51:38.386717Z",
     "iopub.status.idle": "2023-12-12T19:51:38.627743Z",
     "shell.execute_reply": "2023-12-12T19:51:38.626618Z"
    },
    "papermill": {
     "duration": 0.265629,
     "end_time": "2023-12-12T19:51:38.630183",
     "exception": false,
     "start_time": "2023-12-12T19:51:38.364554",
     "status": "completed"
    },
    "tags": []
   },
   "outputs": [
    {
     "data": {
      "text/plain": [
       "<Axes: >"
      ]
     },
     "execution_count": 39,
     "metadata": {},
     "output_type": "execute_result"
    },
    {
     "data": {
      "image/png": "[encoded data removed]",
      "text/plain": [
       "<Figure size 640x480 with 1 Axes>"
      ]
     },
     "metadata": {},
     "output_type": "display_data"
    }
   ],
   "source": [
    "log_price.hist()"
   ]
  },
  {
   "cell_type": "code",
   "execution_count": 40,
   "id": "7106fed3",
   "metadata": {
    "execution": {
     "iopub.execute_input": "2023-12-12T19:51:38.673128Z",
     "iopub.status.busy": "2023-12-12T19:51:38.672703Z",
     "iopub.status.idle": "2023-12-12T19:51:38.685566Z",
     "shell.execute_reply": "2023-12-12T19:51:38.683842Z"
    },
    "papermill": {
     "duration": 0.037136,
     "end_time": "2023-12-12T19:51:38.688049",
     "exception": false,
     "start_time": "2023-12-12T19:51:38.650913",
     "status": "completed"
    },
    "tags": []
   },
   "outputs": [
    {
     "name": "stdout",
     "output_type": "stream",
     "text": [
      "The p-value (0.000000) is less than 0.05. Reject the null hypothesis.\n",
      "The data may not be normally distributed.\n"
     ]
    }
   ],
   "source": [
    "from scipy.stats.mstats import normaltest\n",
    "\n",
    "result = normaltest(log_price)\n",
    "\n",
    "alpha = 0.05\n",
    "\n",
    "# Check the p-value against the significance level\n",
    "if result.pvalue < alpha:\n",
    "    print(f'The p-value ({result.pvalue:.6f}) is less than {alpha}. Reject the null hypothesis.')\n",
    "    print('The data may not be normally distributed.')\n",
    "else:\n",
    "    print(f'The p-value ({result.pvalue:.6f}) is greater than or equal to {alpha}. Fail to reject the null hypothesis.')\n",
    "    print('The data appears to be normally distributed.')\n"
   ]
  },
  {
   "cell_type": "code",
   "execution_count": 41,
   "id": "f3aa1b37",
   "metadata": {
    "execution": {
     "iopub.execute_input": "2023-12-12T19:51:38.772493Z",
     "iopub.status.busy": "2023-12-12T19:51:38.772099Z",
     "iopub.status.idle": "2023-12-12T19:51:39.165236Z",
     "shell.execute_reply": "2023-12-12T19:51:39.164138Z"
    },
    "papermill": {
     "duration": 0.417501,
     "end_time": "2023-12-12T19:51:39.167638",
     "exception": false,
     "start_time": "2023-12-12T19:51:38.750137",
     "status": "completed"
    },
    "tags": []
   },
   "outputs": [
    {
     "data": {
      "image/png": "[encoded data removed]",
      "text/plain": [
       "<Figure size 640x480 with 1 Axes>"
      ]
     },
     "metadata": {},
     "output_type": "display_data"
    }
   ],
   "source": [
    "sqrt_price = np.sqrt(train.price)\n",
    "plt.hist(sqrt_price);"
   ]
  },
  {
   "cell_type": "code",
   "execution_count": 42,
   "id": "1d9f45fb",
   "metadata": {
    "execution": {
     "iopub.execute_input": "2023-12-12T19:51:39.211130Z",
     "iopub.status.busy": "2023-12-12T19:51:39.210765Z",
     "iopub.status.idle": "2023-12-12T19:51:39.222446Z",
     "shell.execute_reply": "2023-12-12T19:51:39.221205Z"
    },
    "papermill": {
     "duration": 0.036143,
     "end_time": "2023-12-12T19:51:39.224814",
     "exception": false,
     "start_time": "2023-12-12T19:51:39.188671",
     "status": "completed"
    },
    "tags": []
   },
   "outputs": [
    {
     "name": "stdout",
     "output_type": "stream",
     "text": [
      "The p-value (0.000000) is less than 0.05. Reject the null hypothesis.\n",
      "The data may not be normally distributed.\n"
     ]
    }
   ],
   "source": [
    "from scipy.stats.mstats import normaltest\n",
    "\n",
    "result = normaltest(sqrt_price)\n",
    "\n",
    "alpha = 0.05\n",
    "\n",
    "# Check the p-value against the significance level\n",
    "if result.pvalue < alpha:\n",
    "    print(f'The p-value ({result.pvalue:.6f}) is less than {alpha}. Reject the null hypothesis.')\n",
    "    print('The data may not be normally distributed.')\n",
    "else:\n",
    "    print(f'The p-value ({result.pvalue:.6f}) is greater than or equal to {alpha}. Fail to reject the null hypothesis.')\n",
    "    print('The data appears to be normally distributed.')\n"
   ]
  },
  {
   "cell_type": "code",
   "execution_count": 43,
   "id": "a0a8f3c4",
   "metadata": {
    "execution": {
     "iopub.execute_input": "2023-12-12T19:51:39.309361Z",
     "iopub.status.busy": "2023-12-12T19:51:39.308960Z",
     "iopub.status.idle": "2023-12-12T19:51:39.313891Z",
     "shell.execute_reply": "2023-12-12T19:51:39.312819Z"
    },
    "papermill": {
     "duration": 0.028925,
     "end_time": "2023-12-12T19:51:39.315938",
     "exception": false,
     "start_time": "2023-12-12T19:51:39.287013",
     "status": "completed"
    },
    "tags": []
   },
   "outputs": [],
   "source": [
    "from scipy.stats import boxcox"
   ]
  },
  {
   "cell_type": "code",
   "execution_count": 44,
   "id": "89453037",
   "metadata": {
    "execution": {
     "iopub.execute_input": "2023-12-12T19:51:39.359391Z",
     "iopub.status.busy": "2023-12-12T19:51:39.358969Z",
     "iopub.status.idle": "2023-12-12T19:51:39.367627Z",
     "shell.execute_reply": "2023-12-12T19:51:39.366774Z"
    },
    "papermill": {
     "duration": 0.032886,
     "end_time": "2023-12-12T19:51:39.369859",
     "exception": false,
     "start_time": "2023-12-12T19:51:39.336973",
     "status": "completed"
    },
    "tags": []
   },
   "outputs": [],
   "source": [
    "bc_result = boxcox(train.price)\n",
    "boxcox_price = bc_result[0]\n",
    "lam = bc_result[1]"
   ]
  },
  {
   "cell_type": "code",
   "execution_count": 45,
   "id": "8f849ce4",
   "metadata": {
    "execution": {
     "iopub.execute_input": "2023-12-12T19:51:39.413611Z",
     "iopub.status.busy": "2023-12-12T19:51:39.413203Z",
     "iopub.status.idle": "2023-12-12T19:51:39.666672Z",
     "shell.execute_reply": "2023-12-12T19:51:39.665501Z"
    },
    "papermill": {
     "duration": 0.278225,
     "end_time": "2023-12-12T19:51:39.669051",
     "exception": false,
     "start_time": "2023-12-12T19:51:39.390826",
     "status": "completed"
    },
    "tags": []
   },
   "outputs": [
    {
     "data": {
      "image/png": "[encoded data removed]",
      "text/plain": [
       "<Figure size 640x480 with 1 Axes>"
      ]
     },
     "metadata": {},
     "output_type": "display_data"
    }
   ],
   "source": [
    "plt.hist(boxcox_price);"
   ]
  },
  {
   "cell_type": "code",
   "execution_count": 46,
   "id": "15a7704f",
   "metadata": {
    "execution": {
     "iopub.execute_input": "2023-12-12T19:51:39.713884Z",
     "iopub.status.busy": "2023-12-12T19:51:39.713512Z",
     "iopub.status.idle": "2023-12-12T19:51:39.726100Z",
     "shell.execute_reply": "2023-12-12T19:51:39.725057Z"
    },
    "papermill": {
     "duration": 0.037931,
     "end_time": "2023-12-12T19:51:39.728429",
     "exception": false,
     "start_time": "2023-12-12T19:51:39.690498",
     "status": "completed"
    },
    "tags": []
   },
   "outputs": [
    {
     "name": "stdout",
     "output_type": "stream",
     "text": [
      "The p-value (0.000000) is less than 0.05. Reject the null hypothesis.\n",
      "The data may not be normally distributed.\n"
     ]
    }
   ],
   "source": [
    "from scipy.stats.mstats import normaltest\n",
    "\n",
    "result = normaltest(boxcox_price)\n",
    "\n",
    "alpha = 0.05\n",
    "\n",
    "# Check the p-value against the significance level\n",
    "if result.pvalue < alpha:\n",
    "    print(f'The p-value ({result.pvalue:.6f}) is less than {alpha}. Reject the null hypothesis.')\n",
    "    print('The data may not be normally distributed.')\n",
    "else:\n",
    "    print(f'The p-value ({result.pvalue:.6f}) is greater than or equal to {alpha}. Fail to reject the null hypothesis.')\n",
    "    print('The data appears to be normally distributed.')\n"
   ]
  },
  {
   "cell_type": "code",
   "execution_count": 47,
   "id": "8cf8e7a6",
   "metadata": {
    "execution": {
     "iopub.execute_input": "2023-12-12T19:51:39.773241Z",
     "iopub.status.busy": "2023-12-12T19:51:39.772868Z",
     "iopub.status.idle": "2023-12-12T19:51:39.779706Z",
     "shell.execute_reply": "2023-12-12T19:51:39.778856Z"
    },
    "papermill": {
     "duration": 0.031413,
     "end_time": "2023-12-12T19:51:39.781923",
     "exception": false,
     "start_time": "2023-12-12T19:51:39.750510",
     "status": "completed"
    },
    "tags": []
   },
   "outputs": [],
   "source": [
    "from scipy.stats import zscore\n",
    "standardized_data = zscore(train.price)"
   ]
  },
  {
   "cell_type": "code",
   "execution_count": 48,
   "id": "c2eb66f5",
   "metadata": {
    "execution": {
     "iopub.execute_input": "2023-12-12T19:51:39.825833Z",
     "iopub.status.busy": "2023-12-12T19:51:39.825137Z",
     "iopub.status.idle": "2023-12-12T19:51:40.053270Z",
     "shell.execute_reply": "2023-12-12T19:51:40.052177Z"
    },
    "papermill": {
     "duration": 0.252714,
     "end_time": "2023-12-12T19:51:40.055579",
     "exception": false,
     "start_time": "2023-12-12T19:51:39.802865",
     "status": "completed"
    },
    "tags": []
   },
   "outputs": [
    {
     "data": {
      "image/png": "[encoded data removed]",
      "text/plain": [
       "<Figure size 640x480 with 1 Axes>"
      ]
     },
     "metadata": {},
     "output_type": "display_data"
    }
   ],
   "source": [
    "plt.hist(standardized_data);"
   ]
  },
  {
   "cell_type": "code",
   "execution_count": 49,
   "id": "b23c2ed4",
   "metadata": {
    "execution": {
     "iopub.execute_input": "2023-12-12T19:51:40.100366Z",
     "iopub.status.busy": "2023-12-12T19:51:40.099941Z",
     "iopub.status.idle": "2023-12-12T19:51:40.111970Z",
     "shell.execute_reply": "2023-12-12T19:51:40.110651Z"
    },
    "papermill": {
     "duration": 0.036936,
     "end_time": "2023-12-12T19:51:40.113999",
     "exception": false,
     "start_time": "2023-12-12T19:51:40.077063",
     "status": "completed"
    },
    "tags": []
   },
   "outputs": [
    {
     "name": "stdout",
     "output_type": "stream",
     "text": [
      "The p-value (0.000000) is less than 0.05. Reject the null hypothesis.\n",
      "The data may not be normally distributed.\n"
     ]
    }
   ],
   "source": [
    "from scipy.stats.mstats import normaltest\n",
    "\n",
    "result = normaltest(standardized_data)\n",
    "\n",
    "alpha = 0.05\n",
    "\n",
    "# Check the p-value against the significance level\n",
    "if result.pvalue < alpha:\n",
    "    print(f'The p-value ({result.pvalue:.6f}) is less than {alpha}. Reject the null hypothesis.')\n",
    "    print('The data may not be normally distributed.')\n",
    "else:\n",
    "    print(f'The p-value ({result.pvalue:.6f}) is greater than or equal to {alpha}. Fail to reject the null hypothesis.')\n",
    "    print('The data appears to be normally distributed.')\n"
   ]
  },
  {
   "cell_type": "code",
   "execution_count": 50,
   "id": "3351330c",
   "metadata": {
    "execution": {
     "iopub.execute_input": "2023-12-12T19:51:40.201004Z",
     "iopub.status.busy": "2023-12-12T19:51:40.200608Z",
     "iopub.status.idle": "2023-12-12T19:51:41.471226Z",
     "shell.execute_reply": "2023-12-12T19:51:41.470082Z"
    },
    "papermill": {
     "duration": 1.295632,
     "end_time": "2023-12-12T19:51:41.473955",
     "exception": false,
     "start_time": "2023-12-12T19:51:40.178323",
     "status": "completed"
    },
    "scrolled": true,
    "tags": []
   },
   "outputs": [
    {
     "data": {
      "text/html": [
       "<style>#sk-container-id-1 {\n",
       "  /* Definition of color scheme common for light and dark mode */\n",
       "  --sklearn-color-text: black;\n",
       "  --sklearn-color-line: gray;\n",
       "  /* Definition of color scheme for unfitted estimators */\n",
       "  --sklearn-color-unfitted-level-0: #fff5e6;\n",
       "  --sklearn-color-unfitted-level-1: #f6e4d2;\n",
       "  --sklearn-color-unfitted-level-2: #ffe0b3;\n",
       "  --sklearn-color-unfitted-level-3: chocolate;\n",
       "  /* Definition of color scheme for fitted estimators */\n",
       "  --sklearn-color-fitted-level-0: #f0f8ff;\n",
       "  --sklearn-color-fitted-level-1: #d4ebff;\n",
       "  --sklearn-color-fitted-level-2: #b3dbfd;\n",
       "  --sklearn-color-fitted-level-3: cornflowerblue;\n",
       "\n",
       "  /* Specific color for light theme */\n",
       "  --sklearn-color-text-on-default-background: var(--sg-text-color, var(--theme-code-foreground, var(--jp-content-font-color1, black)));\n",
       "  --sklearn-color-background: var(--sg-background-color, var(--theme-background, var(--jp-layout-color0, white)));\n",
       "  --sklearn-color-border-box: var(--sg-text-color, var(--theme-code-foreground, var(--jp-content-font-color1, black)));\n",
       "  --sklearn-color-icon: #696969;\n",
       "\n",
       "  @media (prefers-color-scheme: dark) {\n",
       "    /* Redefinition of color scheme for dark theme */\n",
       "    --sklearn-color-text-on-default-background: var(--sg-text-color, var(--theme-code-foreground, var(--jp-content-font-color1, white)));\n",
       "    --sklearn-color-background: var(--sg-background-color, var(--theme-background, var(--jp-layout-color0, #111)));\n",
       "    --sklearn-color-border-box: var(--sg-text-color, var(--theme-code-foreground, var(--jp-content-font-color1, white)));\n",
       "    --sklearn-color-icon: #878787;\n",
       "  }\n",
       "}\n",
       "\n",
       "#sk-container-id-1 {\n",
       "  color: var(--sklearn-color-text);\n",
       "}\n",
       "\n",
       "#sk-container-id-1 pre {\n",
       "  padding: 0;\n",
       "}\n",
       "\n",
       "#sk-container-id-1 input.sk-hidden--visually {\n",
       "  border: 0;\n",
       "  clip: rect(1px 1px 1px 1px);\n",
       "  clip: rect(1px, 1px, 1px, 1px);\n",
       "  height: 1px;\n",
       "  margin: -1px;\n",
       "  overflow: hidden;\n",
       "  padding: 0;\n",
       "  position: absolute;\n",
       "  width: 1px;\n",
       "}\n",
       "\n",
       "#sk-container-id-1 div.sk-dashed-wrapped {\n",
       "  border: 1px dashed var(--sklearn-color-line);\n",
       "  margin: 0 0.4em 0.5em 0.4em;\n",
       "  box-sizing: border-box;\n",
       "  padding-bottom: 0.4em;\n",
       "  background-color: var(--sklearn-color-background);\n",
       "}\n",
       "\n",
       "#sk-container-id-1 div.sk-container {\n",
       "  /* jupyter's `normalize.less` sets `[hidden] { display: none; }`\n",
       "     but bootstrap.min.css set `[hidden] { display: none !important; }`\n",
       "     so we also need the `!important` here to be able to override the\n",
       "     default hidden behavior on the sphinx rendered scikit-learn.org.\n",
       "     See: https://github.com/scikit-learn/scikit-learn/issues/21755 */\n",
       "  display: inline-block !important;\n",
       "  position: relative;\n",
       "}\n",
       "\n",
       "#sk-container-id-1 div.sk-text-repr-fallback {\n",
       "  display: none;\n",
       "}\n",
       "\n",
       "div.sk-parallel-item,\n",
       "div.sk-serial,\n",
       "div.sk-item {\n",
       "  /* draw centered vertical line to link estimators */\n",
       "  background-image: linear-gradient(var(--sklearn-color-text-on-default-background), var(--sklearn-color-text-on-default-background));\n",
       "  background-size: 2px 100%;\n",
       "  background-repeat: no-repeat;\n",
       "  background-position: center center;\n",
       "}\n",
       "\n",
       "/* Parallel-specific style estimator block */\n",
       "\n",
       "#sk-container-id-1 div.sk-parallel-item::after {\n",
       "  content: \"\";\n",
       "  width: 100%;\n",
       "  border-bottom: 2px solid var(--sklearn-color-text-on-default-background);\n",
       "  flex-grow: 1;\n",
       "}\n",
       "\n",
       "#sk-container-id-1 div.sk-parallel {\n",
       "  display: flex;\n",
       "  align-items: stretch;\n",
       "  justify-content: center;\n",
       "  background-color: var(--sklearn-color-background);\n",
       "  position: relative;\n",
       "}\n",
       "\n",
       "#sk-container-id-1 div.sk-parallel-item {\n",
       "  display: flex;\n",
       "  flex-direction: column;\n",
       "}\n",
       "\n",
       "#sk-container-id-1 div.sk-parallel-item:first-child::after {\n",
       "  align-self: flex-end;\n",
       "  width: 50%;\n",
       "}\n",
       "\n",
       "#sk-container-id-1 div.sk-parallel-item:last-child::after {\n",
       "  align-self: flex-start;\n",
       "  width: 50%;\n",
       "}\n",
       "\n",
       "#sk-container-id-1 div.sk-parallel-item:only-child::after {\n",
       "  width: 0;\n",
       "}\n",
       "\n",
       "/* Serial-specific style estimator block */\n",
       "\n",
       "#sk-container-id-1 div.sk-serial {\n",
       "  display: flex;\n",
       "  flex-direction: column;\n",
       "  align-items: center;\n",
       "  background-color: var(--sklearn-color-background);\n",
       "  padding-right: 1em;\n",
       "  padding-left: 1em;\n",
       "}\n",
       "\n",
       "\n",
       "/* Toggleable style: style used for estimator/Pipeline/ColumnTransformer box that is\n",
       "clickable and can be expanded/collapsed.\n",
       "- Pipeline and ColumnTransformer use this feature and define the default style\n",
       "- Estimators will overwrite some part of the style using the `sk-estimator` class\n",
       "*/\n",
       "\n",
       "/* Pipeline and ColumnTransformer style (default) */\n",
       "\n",
       "#sk-container-id-1 div.sk-toggleable {\n",
       "  /* Default theme specific background. It is overwritten whether we have a\n",
       "  specific estimator or a Pipeline/ColumnTransformer */\n",
       "  background-color: var(--sklearn-color-background);\n",
       "}\n",
       "\n",
       "/* Toggleable label */\n",
       "#sk-container-id-1 label.sk-toggleable__label {\n",
       "  cursor: pointer;\n",
       "  display: block;\n",
       "  width: 100%;\n",
       "  margin-bottom: 0;\n",
       "  padding: 0.5em;\n",
       "  box-sizing: border-box;\n",
       "  text-align: center;\n",
       "}\n",
       "\n",
       "#sk-container-id-1 label.sk-toggleable__label-arrow:before {\n",
       "  /* Arrow on the left of the label */\n",
       "  content: \"▸\";\n",
       "  float: left;\n",
       "  margin-right: 0.25em;\n",
       "  color: var(--sklearn-color-icon);\n",
       "}\n",
       "\n",
       "#sk-container-id-1 label.sk-toggleable__label-arrow:hover:before {\n",
       "  color: var(--sklearn-color-text);\n",
       "}\n",
       "\n",
       "/* Toggleable content - dropdown */\n",
       "\n",
       "#sk-container-id-1 div.sk-toggleable__content {\n",
       "  max-height: 0;\n",
       "  max-width: 0;\n",
       "  overflow: hidden;\n",
       "  text-align: left;\n",
       "  /* unfitted */\n",
       "  background-color: var(--sklearn-color-unfitted-level-0);\n",
       "}\n",
       "\n",
       "#sk-container-id-1 div.sk-toggleable__content.fitted {\n",
       "  /* fitted */\n",
       "  background-color: var(--sklearn-color-fitted-level-0);\n",
       "}\n",
       "\n",
       "#sk-container-id-1 div.sk-toggleable__content pre {\n",
       "  margin: 0.2em;\n",
       "  border-radius: 0.25em;\n",
       "  color: var(--sklearn-color-text);\n",
       "  /* unfitted */\n",
       "  background-color: var(--sklearn-color-unfitted-level-0);\n",
       "}\n",
       "\n",
       "#sk-container-id-1 div.sk-toggleable__content.fitted pre {\n",
       "  /* unfitted */\n",
       "  background-color: var(--sklearn-color-fitted-level-0);\n",
       "}\n",
       "\n",
       "#sk-container-id-1 input.sk-toggleable__control:checked~div.sk-toggleable__content {\n",
       "  /* Expand drop-down */\n",
       "  max-height: 200px;\n",
       "  max-width: 100%;\n",
       "  overflow: auto;\n",
       "}\n",
       "\n",
       "#sk-container-id-1 input.sk-toggleable__control:checked~label.sk-toggleable__label-arrow:before {\n",
       "  content: \"▾\";\n",
       "}\n",
       "\n",
       "/* Pipeline/ColumnTransformer-specific style */\n",
       "\n",
       "#sk-container-id-1 div.sk-label input.sk-toggleable__control:checked~label.sk-toggleable__label {\n",
       "  color: var(--sklearn-color-text);\n",
       "  background-color: var(--sklearn-color-unfitted-level-2);\n",
       "}\n",
       "\n",
       "#sk-container-id-1 div.sk-label.fitted input.sk-toggleable__control:checked~label.sk-toggleable__label {\n",
       "  background-color: var(--sklearn-color-fitted-level-2);\n",
       "}\n",
       "\n",
       "/* Estimator-specific style */\n",
       "\n",
       "/* Colorize estimator box */\n",
       "#sk-container-id-1 div.sk-estimator input.sk-toggleable__control:checked~label.sk-toggleable__label {\n",
       "  /* unfitted */\n",
       "  background-color: var(--sklearn-color-unfitted-level-2);\n",
       "}\n",
       "\n",
       "#sk-container-id-1 div.sk-estimator.fitted input.sk-toggleable__control:checked~label.sk-toggleable__label {\n",
       "  /* fitted */\n",
       "  background-color: var(--sklearn-color-fitted-level-2);\n",
       "}\n",
       "\n",
       "#sk-container-id-1 div.sk-label label.sk-toggleable__label,\n",
       "#sk-container-id-1 div.sk-label label {\n",
       "  /* The background is the default theme color */\n",
       "  color: var(--sklearn-color-text-on-default-background);\n",
       "}\n",
       "\n",
       "/* On hover, darken the color of the background */\n",
       "#sk-container-id-1 div.sk-label:hover label.sk-toggleable__label {\n",
       "  color: var(--sklearn-color-text);\n",
       "  background-color: var(--sklearn-color-unfitted-level-2);\n",
       "}\n",
       "\n",
       "/* Label box, darken color on hover, fitted */\n",
       "#sk-container-id-1 div.sk-label.fitted:hover label.sk-toggleable__label.fitted {\n",
       "  color: var(--sklearn-color-text);\n",
       "  background-color: var(--sklearn-color-fitted-level-2);\n",
       "}\n",
       "\n",
       "/* Estimator label */\n",
       "\n",
       "#sk-container-id-1 div.sk-label label {\n",
       "  font-family: monospace;\n",
       "  font-weight: bold;\n",
       "  display: inline-block;\n",
       "  line-height: 1.2em;\n",
       "}\n",
       "\n",
       "#sk-container-id-1 div.sk-label-container {\n",
       "  text-align: center;\n",
       "}\n",
       "\n",
       "/* Estimator-specific */\n",
       "#sk-container-id-1 div.sk-estimator {\n",
       "  font-family: monospace;\n",
       "  border: 1px dotted var(--sklearn-color-border-box);\n",
       "  border-radius: 0.25em;\n",
       "  box-sizing: border-box;\n",
       "  margin-bottom: 0.5em;\n",
       "  /* unfitted */\n",
       "  background-color: var(--sklearn-color-unfitted-level-0);\n",
       "}\n",
       "\n",
       "#sk-container-id-1 div.sk-estimator.fitted {\n",
       "  /* fitted */\n",
       "  background-color: var(--sklearn-color-fitted-level-0);\n",
       "}\n",
       "\n",
       "/* on hover */\n",
       "#sk-container-id-1 div.sk-estimator:hover {\n",
       "  /* unfitted */\n",
       "  background-color: var(--sklearn-color-unfitted-level-2);\n",
       "}\n",
       "\n",
       "#sk-container-id-1 div.sk-estimator.fitted:hover {\n",
       "  /* fitted */\n",
       "  background-color: var(--sklearn-color-fitted-level-2);\n",
       "}\n",
       "\n",
       "/* Specification for estimator info (e.g. \"i\" and \"?\") */\n",
       "\n",
       "/* Common style for \"i\" and \"?\" */\n",
       "\n",
       ".sk-estimator-doc-link,\n",
       "a:link.sk-estimator-doc-link,\n",
       "a:visited.sk-estimator-doc-link {\n",
       "  float: right;\n",
       "  font-size: smaller;\n",
       "  line-height: 1em;\n",
       "  font-family: monospace;\n",
       "  background-color: var(--sklearn-color-background);\n",
       "  border-radius: 1em;\n",
       "  height: 1em;\n",
       "  width: 1em;\n",
       "  text-decoration: none !important;\n",
       "  margin-left: 1ex;\n",
       "  /* unfitted */\n",
       "  border: var(--sklearn-color-unfitted-level-1) 1pt solid;\n",
       "  color: var(--sklearn-color-unfitted-level-1);\n",
       "}\n",
       "\n",
       ".sk-estimator-doc-link.fitted,\n",
       "a:link.sk-estimator-doc-link.fitted,\n",
       "a:visited.sk-estimator-doc-link.fitted {\n",
       "  /* fitted */\n",
       "  border: var(--sklearn-color-fitted-level-1) 1pt solid;\n",
       "  color: var(--sklearn-color-fitted-level-1);\n",
       "}\n",
       "\n",
       "/* On hover */\n",
       "div.sk-estimator:hover .sk-estimator-doc-link:hover,\n",
       ".sk-estimator-doc-link:hover,\n",
       "div.sk-label-container:hover .sk-estimator-doc-link:hover,\n",
       ".sk-estimator-doc-link:hover {\n",
       "  /* unfitted */\n",
       "  background-color: var(--sklearn-color-unfitted-level-3);\n",
       "  color: var(--sklearn-color-background);\n",
       "  text-decoration: none;\n",
       "}\n",
       "\n",
       "div.sk-estimator.fitted:hover .sk-estimator-doc-link.fitted:hover,\n",
       ".sk-estimator-doc-link.fitted:hover,\n",
       "div.sk-label-container:hover .sk-estimator-doc-link.fitted:hover,\n",
       ".sk-estimator-doc-link.fitted:hover {\n",
       "  /* fitted */\n",
       "  background-color: var(--sklearn-color-fitted-level-3);\n",
       "  color: var(--sklearn-color-background);\n",
       "  text-decoration: none;\n",
       "}\n",
       "\n",
       "/* Span, style for the box shown on hovering the info icon */\n",
       ".sk-estimator-doc-link span {\n",
       "  display: none;\n",
       "  z-index: 9999;\n",
       "  position: relative;\n",
       "  font-weight: normal;\n",
       "  right: .2ex;\n",
       "  padding: .5ex;\n",
       "  margin: .5ex;\n",
       "  width: min-content;\n",
       "  min-width: 20ex;\n",
       "  max-width: 50ex;\n",
       "  color: var(--sklearn-color-text);\n",
       "  box-shadow: 2pt 2pt 4pt #999;\n",
       "  /* unfitted */\n",
       "  background: var(--sklearn-color-unfitted-level-0);\n",
       "  border: .5pt solid var(--sklearn-color-unfitted-level-3);\n",
       "}\n",
       "\n",
       ".sk-estimator-doc-link.fitted span {\n",
       "  /* fitted */\n",
       "  background: var(--sklearn-color-fitted-level-0);\n",
       "  border: var(--sklearn-color-fitted-level-3);\n",
       "}\n",
       "\n",
       ".sk-estimator-doc-link:hover span {\n",
       "  display: block;\n",
       "}\n",
       "\n",
       "/* \"?\"-specific style due to the `<a>` HTML tag */\n",
       "\n",
       "#sk-container-id-1 a.estimator_doc_link {\n",
       "  float: right;\n",
       "  font-size: 1rem;\n",
       "  line-height: 1em;\n",
       "  font-family: monospace;\n",
       "  background-color: var(--sklearn-color-background);\n",
       "  border-radius: 1rem;\n",
       "  height: 1rem;\n",
       "  width: 1rem;\n",
       "  text-decoration: none;\n",
       "  /* unfitted */\n",
       "  color: var(--sklearn-color-unfitted-level-1);\n",
       "  border: var(--sklearn-color-unfitted-level-1) 1pt solid;\n",
       "}\n",
       "\n",
       "#sk-container-id-1 a.estimator_doc_link.fitted {\n",
       "  /* fitted */\n",
       "  border: var(--sklearn-color-fitted-level-1) 1pt solid;\n",
       "  color: var(--sklearn-color-fitted-level-1);\n",
       "}\n",
       "\n",
       "/* On hover */\n",
       "#sk-container-id-1 a.estimator_doc_link:hover {\n",
       "  /* unfitted */\n",
       "  background-color: var(--sklearn-color-unfitted-level-3);\n",
       "  color: var(--sklearn-color-background);\n",
       "  text-decoration: none;\n",
       "}\n",
       "\n",
       "#sk-container-id-1 a.estimator_doc_link.fitted:hover {\n",
       "  /* fitted */\n",
       "  background-color: var(--sklearn-color-fitted-level-3);\n",
       "}\n",
       "</style><div id=\"sk-container-id-1\" class=\"sk-top-container\"><div class=\"sk-text-repr-fallback\"><pre>Pipeline(steps=[(&#x27;polynomialfeatures&#x27;, PolynomialFeatures()),\n",
       "                (&#x27;standardscaler&#x27;, StandardScaler()),\n",
       "                (&#x27;gradientboostingregressor&#x27;,\n",
       "                 GradientBoostingRegressor(n_estimators=150))])</pre><b>In a Jupyter environment, please rerun this cell to show the HTML representation or trust the notebook. <br />On GitHub, the HTML representation is unable to render, please try loading this page with nbviewer.org.</b></div><div class=\"sk-container\" hidden><div class=\"sk-item sk-dashed-wrapped\"><div class=\"sk-label-container\"><div class=\"sk-label fitted sk-toggleable\"><input class=\"sk-toggleable__control sk-hidden--visually\" id=\"sk-estimator-id-1\" type=\"checkbox\" ><label for=\"sk-estimator-id-1\" class=\"sk-toggleable__label fitted sk-toggleable__label-arrow fitted\">&nbsp;&nbsp;Pipeline<a class=\"sk-estimator-doc-link fitted\" rel=\"noreferrer\" target=\"_blank\" href=\"https://scikit-learn.org/1.4/modules/generated/sklearn.pipeline.Pipeline.html\">?<span>Documentation for Pipeline</span></a><span class=\"sk-estimator-doc-link fitted\">i<span>Fitted</span></span></label><div class=\"sk-toggleable__content fitted\"><pre>Pipeline(steps=[(&#x27;polynomialfeatures&#x27;, PolynomialFeatures()),\n",
       "                (&#x27;standardscaler&#x27;, StandardScaler()),\n",
       "                (&#x27;gradientboostingregressor&#x27;,\n",
       "                 GradientBoostingRegressor(n_estimators=150))])</pre></div> </div></div><div class=\"sk-serial\"><div class=\"sk-item\"><div class=\"sk-estimator fitted sk-toggleable\"><input class=\"sk-toggleable__control sk-hidden--visually\" id=\"sk-estimator-id-2\" type=\"checkbox\" ><label for=\"sk-estimator-id-2\" class=\"sk-toggleable__label fitted sk-toggleable__label-arrow fitted\">&nbsp;PolynomialFeatures<a class=\"sk-estimator-doc-link fitted\" rel=\"noreferrer\" target=\"_blank\" href=\"https://scikit-learn.org/1.4/modules/generated/sklearn.preprocessing.PolynomialFeatures.html\">?<span>Documentation for PolynomialFeatures</span></a></label><div class=\"sk-toggleable__content fitted\"><pre>PolynomialFeatures()</pre></div> </div></div><div class=\"sk-item\"><div class=\"sk-estimator fitted sk-toggleable\"><input class=\"sk-toggleable__control sk-hidden--visually\" id=\"sk-estimator-id-3\" type=\"checkbox\" ><label for=\"sk-estimator-id-3\" class=\"sk-toggleable__label fitted sk-toggleable__label-arrow fitted\">&nbsp;StandardScaler<a class=\"sk-estimator-doc-link fitted\" rel=\"noreferrer\" target=\"_blank\" href=\"https://scikit-learn.org/1.4/modules/generated/sklearn.preprocessing.StandardScaler.html\">?<span>Documentation for StandardScaler</span></a></label><div class=\"sk-toggleable__content fitted\"><pre>StandardScaler()</pre></div> </div></div><div class=\"sk-item\"><div class=\"sk-estimator fitted sk-toggleable\"><input class=\"sk-toggleable__control sk-hidden--visually\" id=\"sk-estimator-id-4\" type=\"checkbox\" ><label for=\"sk-estimator-id-4\" class=\"sk-toggleable__label fitted sk-toggleable__label-arrow fitted\">&nbsp;GradientBoostingRegressor<a class=\"sk-estimator-doc-link fitted\" rel=\"noreferrer\" target=\"_blank\" href=\"https://scikit-learn.org/1.4/modules/generated/sklearn.ensemble.GradientBoostingRegressor.html\">?<span>Documentation for GradientBoostingRegressor</span></a></label><div class=\"sk-toggleable__content fitted\"><pre>GradientBoostingRegressor(n_estimators=150)</pre></div> </div></div></div></div></div></div>"
      ],
      "text/plain": [
       "Pipeline(steps=[('polynomialfeatures', PolynomialFeatures()),\n",
       "                ('standardscaler', StandardScaler()),\n",
       "                ('gradientboostingregressor',\n",
       "                 GradientBoostingRegressor(n_estimators=150))])"
      ]
     },
     "execution_count": 50,
     "metadata": {},
     "output_type": "execute_result"
    }
   ],
   "source": [
    "from sklearn.ensemble import GradientBoostingRegressor\n",
    "from sklearn.preprocessing import PolynomialFeatures, StandardScaler\n",
    "from sklearn.pipeline import make_pipeline\n",
    "from sklearn.model_selection import train_test_split\n",
    "from sklearn.metrics import mean_squared_error\n",
    "\n",
    "pipeline = make_pipeline(PolynomialFeatures(degree=2),\n",
    "                         StandardScaler(),\n",
    "                         GradientBoostingRegressor(learning_rate=0.1,\n",
    "                                                   max_depth=3,\n",
    "                                                   n_estimators=150))\n",
    "\n",
    "pipeline.fit(X_train, y_train)"
   ]
  },
  {
   "cell_type": "code",
   "execution_count": 51,
   "id": "f6a26ff5",
   "metadata": {
    "execution": {
     "iopub.execute_input": "2023-12-12T19:51:41.521784Z",
     "iopub.status.busy": "2023-12-12T19:51:41.521370Z",
     "iopub.status.idle": "2023-12-12T19:51:41.541508Z",
     "shell.execute_reply": "2023-12-12T19:51:41.540170Z"
    },
    "papermill": {
     "duration": 0.047547,
     "end_time": "2023-12-12T19:51:41.544014",
     "exception": false,
     "start_time": "2023-12-12T19:51:41.496467",
     "status": "completed"
    },
    "tags": []
   },
   "outputs": [
    {
     "name": "stdout",
     "output_type": "stream",
     "text": [
      "Mean Squared Error on the test set: 4888537.344805076\n"
     ]
    }
   ],
   "source": [
    "test_y_pred = pipeline.predict(X_test)\n",
    "train_y_pred = pipeline.predict(X_train)\n",
    "\n",
    "mse = mean_squared_error(y_train, train_y_pred)\n",
    "print(f\"Mean Squared Error on the test set: {mse}\")"
   ]
  },
  {
   "cell_type": "code",
   "execution_count": 52,
   "id": "e3791518",
   "metadata": {
    "execution": {
     "iopub.execute_input": "2023-12-12T19:51:41.592007Z",
     "iopub.status.busy": "2023-12-12T19:51:41.591600Z",
     "iopub.status.idle": "2023-12-12T19:51:41.598474Z",
     "shell.execute_reply": "2023-12-12T19:51:41.597340Z"
    },
    "papermill": {
     "duration": 0.034022,
     "end_time": "2023-12-12T19:51:41.600850",
     "exception": false,
     "start_time": "2023-12-12T19:51:41.566828",
     "status": "completed"
    },
    "tags": []
   },
   "outputs": [
    {
     "name": "stdout",
     "output_type": "stream",
     "text": [
      "R-squared (R2) Score: 0.9050120744446335\n"
     ]
    }
   ],
   "source": [
    "from sklearn.metrics import r2_score\n",
    "\n",
    "r2 = r2_score(y_train, train_y_pred)\n",
    "\n",
    "print(f'R-squared (R2) Score: {r2}')"
   ]
  },
  {
   "cell_type": "code",
   "execution_count": 53,
   "id": "06f8e71e",
   "metadata": {
    "execution": {
     "iopub.execute_input": "2023-12-12T19:51:41.647819Z",
     "iopub.status.busy": "2023-12-12T19:51:41.647389Z",
     "iopub.status.idle": "2023-12-12T19:51:41.660987Z",
     "shell.execute_reply": "2023-12-12T19:51:41.659800Z"
    },
    "papermill": {
     "duration": 0.039554,
     "end_time": "2023-12-12T19:51:41.663343",
     "exception": false,
     "start_time": "2023-12-12T19:51:41.623789",
     "status": "completed"
    },
    "tags": []
   },
   "outputs": [
    {
     "data": {
      "text/html": [
       "<div>\n",
       "<style scoped>\n",
       "    .dataframe tbody tr th:only-of-type {\n",
       "        vertical-align: middle;\n",
       "    }\n",
       "\n",
       "    .dataframe tbody tr th {\n",
       "        vertical-align: top;\n",
       "    }\n",
       "\n",
       "    .dataframe thead th {\n",
       "        text-align: right;\n",
       "    }\n",
       "</style>\n",
       "<table border=\"1\" class=\"dataframe\">\n",
       "  <thead>\n",
       "    <tr style=\"text-align: right;\">\n",
       "      <th></th>\n",
       "      <th>Price</th>\n",
       "    </tr>\n",
       "    <tr>\n",
       "      <th>ID</th>\n",
       "      <th></th>\n",
       "    </tr>\n",
       "  </thead>\n",
       "  <tbody>\n",
       "    <tr>\n",
       "      <th>0</th>\n",
       "      <td>17586.744874</td>\n",
       "    </tr>\n",
       "    <tr>\n",
       "      <th>1</th>\n",
       "      <td>17085.803619</td>\n",
       "    </tr>\n",
       "    <tr>\n",
       "      <th>2</th>\n",
       "      <td>23920.687650</td>\n",
       "    </tr>\n",
       "    <tr>\n",
       "      <th>3</th>\n",
       "      <td>14386.832984</td>\n",
       "    </tr>\n",
       "    <tr>\n",
       "      <th>4</th>\n",
       "      <td>6652.202175</td>\n",
       "    </tr>\n",
       "    <tr>\n",
       "      <th>...</th>\n",
       "      <td>...</td>\n",
       "    </tr>\n",
       "    <tr>\n",
       "      <th>406</th>\n",
       "      <td>26987.371680</td>\n",
       "    </tr>\n",
       "    <tr>\n",
       "      <th>407</th>\n",
       "      <td>13731.154738</td>\n",
       "    </tr>\n",
       "    <tr>\n",
       "      <th>408</th>\n",
       "      <td>14486.083191</td>\n",
       "    </tr>\n",
       "    <tr>\n",
       "      <th>409</th>\n",
       "      <td>16333.389781</td>\n",
       "    </tr>\n",
       "    <tr>\n",
       "      <th>410</th>\n",
       "      <td>13380.169656</td>\n",
       "    </tr>\n",
       "  </tbody>\n",
       "</table>\n",
       "<p>411 rows × 1 columns</p>\n",
       "</div>"
      ],
      "text/plain": [
       "            Price\n",
       "ID               \n",
       "0    17586.744874\n",
       "1    17085.803619\n",
       "2    23920.687650\n",
       "3    14386.832984\n",
       "4     6652.202175\n",
       "..            ...\n",
       "406  26987.371680\n",
       "407  13731.154738\n",
       "408  14486.083191\n",
       "409  16333.389781\n",
       "410  13380.169656\n",
       "\n",
       "[411 rows x 1 columns]"
      ]
     },
     "execution_count": 53,
     "metadata": {},
     "output_type": "execute_result"
    }
   ],
   "source": [
    "Prediction = pd.DataFrame({\"ID\" : test[\"Id\"], \"Price\":test_y_pred})\n",
    "Prediction.set_index(\"ID\")"
   ]
  },
  {
   "cell_type": "markdown",
   "id": "7c08933b",
   "metadata": {
    "papermill": {
     "duration": 0.022027,
     "end_time": "2023-12-12T19:51:41.708104",
     "exception": false,
     "start_time": "2023-12-12T19:51:41.686077",
     "status": "completed"
    },
    "tags": []
   },
   "source": [
    "### Converting dataframe into CSV file."
   ]
  },
  {
   "cell_type": "code",
   "execution_count": 54,
   "id": "8a217661",
   "metadata": {
    "execution": {
     "iopub.execute_input": "2023-12-12T19:51:41.754813Z",
     "iopub.status.busy": "2023-12-12T19:51:41.754393Z",
     "iopub.status.idle": "2023-12-12T19:51:41.763886Z",
     "shell.execute_reply": "2023-12-12T19:51:41.762982Z"
    },
    "papermill": {
     "duration": 0.035961,
     "end_time": "2023-12-12T19:51:41.766241",
     "exception": false,
     "start_time": "2023-12-12T19:51:41.730280",
     "status": "completed"
    },
    "tags": []
   },
   "outputs": [],
   "source": [
    "Prediction.to_csv(\"Submission file.csv\")"
   ]
  },
  {
   "cell_type": "code",
   "execution_count": null,
   "id": "ceda7576",
   "metadata": {},
   "outputs": [],
   "source": []
  }
 ],
 "metadata": {
  "kaggle": {
   "accelerator": "none",
   "dataSources": [
    {
     "databundleVersionId": 7270400,
     "sourceId": 65472,
     "sourceType": "competition"
    }
   ],
   "dockerImageVersionId": 30615,
   "isGpuEnabled": false,
   "isInternetEnabled": true,
   "language": "python",
   "sourceType": "notebook"
  },
  "kernelspec": {
   "display_name": "Python 3 (ipykernel)",
   "language": "python",
   "name": "python3"
  },
  "language_info": {
   "codemirror_mode": {
    "name": "ipython",
    "version": 3
   },
   "file_extension": ".py",
   "mimetype": "text/x-python",
   "name": "python",
   "nbconvert_exporter": "python",
   "pygments_lexer": "ipython3",
   "version": "3.9.13"
  },
  "papermill": {
   "default_parameters": {},
   "duration": 199.281205,
   "end_time": "2023-12-12T19:51:44.409726",
   "environment_variables": {},
   "exception": null,
   "input_path": "__notebook__.ipynb",
   "output_path": "__notebook__.ipynb",
   "parameters": {},
   "start_time": "2023-12-12T19:48:25.128521",
   "version": "2.4.0"
  }
 },
 "nbformat": 4,
 "nbformat_minor": 5
}
